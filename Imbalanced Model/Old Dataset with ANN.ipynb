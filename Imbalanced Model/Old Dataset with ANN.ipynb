{
  "cells": [
    {
      "cell_type": "code",
      "execution_count": 1,
      "metadata": {
        "id": "pekf85xnDNlO",
        "colab": {
          "base_uri": "https://localhost:8080/"
        },
        "outputId": "41f5caf8-74fb-4198-b82b-e5f27bddefbc"
      },
      "outputs": [
        {
          "output_type": "stream",
          "name": "stdout",
          "text": [
            "Requirement already satisfied: keras in /usr/local/lib/python3.7/dist-packages (2.8.0)\n"
          ]
        }
      ],
      "source": [
        "!pip install keras"
      ]
    },
    {
      "cell_type": "code",
      "execution_count": 2,
      "metadata": {
        "id": "4732o2riFPRv",
        "colab": {
          "base_uri": "https://localhost:8080/"
        },
        "outputId": "9c96abec-2512-4aae-b620-e2e6cddd5213"
      },
      "outputs": [
        {
          "output_type": "stream",
          "name": "stdout",
          "text": [
            "Requirement already satisfied: tensorflow in /usr/local/lib/python3.7/dist-packages (2.8.0)\n",
            "Requirement already satisfied: flatbuffers>=1.12 in /usr/local/lib/python3.7/dist-packages (from tensorflow) (2.0)\n",
            "Requirement already satisfied: opt-einsum>=2.3.2 in /usr/local/lib/python3.7/dist-packages (from tensorflow) (3.3.0)\n",
            "Requirement already satisfied: tensorboard<2.9,>=2.8 in /usr/local/lib/python3.7/dist-packages (from tensorflow) (2.8.0)\n",
            "Requirement already satisfied: setuptools in /usr/local/lib/python3.7/dist-packages (from tensorflow) (57.4.0)\n",
            "Requirement already satisfied: astunparse>=1.6.0 in /usr/local/lib/python3.7/dist-packages (from tensorflow) (1.6.3)\n",
            "Requirement already satisfied: typing-extensions>=3.6.6 in /usr/local/lib/python3.7/dist-packages (from tensorflow) (3.10.0.2)\n",
            "Requirement already satisfied: six>=1.12.0 in /usr/local/lib/python3.7/dist-packages (from tensorflow) (1.15.0)\n",
            "Requirement already satisfied: absl-py>=0.4.0 in /usr/local/lib/python3.7/dist-packages (from tensorflow) (1.0.0)\n",
            "Requirement already satisfied: keras<2.9,>=2.8.0rc0 in /usr/local/lib/python3.7/dist-packages (from tensorflow) (2.8.0)\n",
            "Collecting tf-estimator-nightly==2.8.0.dev2021122109\n",
            "  Downloading tf_estimator_nightly-2.8.0.dev2021122109-py2.py3-none-any.whl (462 kB)\n",
            "\u001b[K     |████████████████████████████████| 462 kB 9.8 MB/s \n",
            "\u001b[?25hRequirement already satisfied: google-pasta>=0.1.1 in /usr/local/lib/python3.7/dist-packages (from tensorflow) (0.2.0)\n",
            "Requirement already satisfied: tensorflow-io-gcs-filesystem>=0.23.1 in /usr/local/lib/python3.7/dist-packages (from tensorflow) (0.24.0)\n",
            "Requirement already satisfied: numpy>=1.20 in /usr/local/lib/python3.7/dist-packages (from tensorflow) (1.21.5)\n",
            "Requirement already satisfied: keras-preprocessing>=1.1.1 in /usr/local/lib/python3.7/dist-packages (from tensorflow) (1.1.2)\n",
            "Requirement already satisfied: wrapt>=1.11.0 in /usr/local/lib/python3.7/dist-packages (from tensorflow) (1.13.3)\n",
            "Requirement already satisfied: h5py>=2.9.0 in /usr/local/lib/python3.7/dist-packages (from tensorflow) (3.1.0)\n",
            "Requirement already satisfied: grpcio<2.0,>=1.24.3 in /usr/local/lib/python3.7/dist-packages (from tensorflow) (1.44.0)\n",
            "Requirement already satisfied: protobuf>=3.9.2 in /usr/local/lib/python3.7/dist-packages (from tensorflow) (3.17.3)\n",
            "Requirement already satisfied: termcolor>=1.1.0 in /usr/local/lib/python3.7/dist-packages (from tensorflow) (1.1.0)\n",
            "Requirement already satisfied: gast>=0.2.1 in /usr/local/lib/python3.7/dist-packages (from tensorflow) (0.5.3)\n",
            "Requirement already satisfied: libclang>=9.0.1 in /usr/local/lib/python3.7/dist-packages (from tensorflow) (13.0.0)\n",
            "Requirement already satisfied: wheel<1.0,>=0.23.0 in /usr/local/lib/python3.7/dist-packages (from astunparse>=1.6.0->tensorflow) (0.37.1)\n",
            "Requirement already satisfied: cached-property in /usr/local/lib/python3.7/dist-packages (from h5py>=2.9.0->tensorflow) (1.5.2)\n",
            "Requirement already satisfied: markdown>=2.6.8 in /usr/local/lib/python3.7/dist-packages (from tensorboard<2.9,>=2.8->tensorflow) (3.3.6)\n",
            "Requirement already satisfied: tensorboard-plugin-wit>=1.6.0 in /usr/local/lib/python3.7/dist-packages (from tensorboard<2.9,>=2.8->tensorflow) (1.8.1)\n",
            "Requirement already satisfied: google-auth-oauthlib<0.5,>=0.4.1 in /usr/local/lib/python3.7/dist-packages (from tensorboard<2.9,>=2.8->tensorflow) (0.4.6)\n",
            "Requirement already satisfied: tensorboard-data-server<0.7.0,>=0.6.0 in /usr/local/lib/python3.7/dist-packages (from tensorboard<2.9,>=2.8->tensorflow) (0.6.1)\n",
            "Requirement already satisfied: requests<3,>=2.21.0 in /usr/local/lib/python3.7/dist-packages (from tensorboard<2.9,>=2.8->tensorflow) (2.23.0)\n",
            "Requirement already satisfied: werkzeug>=0.11.15 in /usr/local/lib/python3.7/dist-packages (from tensorboard<2.9,>=2.8->tensorflow) (1.0.1)\n",
            "Requirement already satisfied: google-auth<3,>=1.6.3 in /usr/local/lib/python3.7/dist-packages (from tensorboard<2.9,>=2.8->tensorflow) (1.35.0)\n",
            "Requirement already satisfied: cachetools<5.0,>=2.0.0 in /usr/local/lib/python3.7/dist-packages (from google-auth<3,>=1.6.3->tensorboard<2.9,>=2.8->tensorflow) (4.2.4)\n",
            "Requirement already satisfied: pyasn1-modules>=0.2.1 in /usr/local/lib/python3.7/dist-packages (from google-auth<3,>=1.6.3->tensorboard<2.9,>=2.8->tensorflow) (0.2.8)\n",
            "Requirement already satisfied: rsa<5,>=3.1.4 in /usr/local/lib/python3.7/dist-packages (from google-auth<3,>=1.6.3->tensorboard<2.9,>=2.8->tensorflow) (4.8)\n",
            "Requirement already satisfied: requests-oauthlib>=0.7.0 in /usr/local/lib/python3.7/dist-packages (from google-auth-oauthlib<0.5,>=0.4.1->tensorboard<2.9,>=2.8->tensorflow) (1.3.1)\n",
            "Requirement already satisfied: importlib-metadata>=4.4 in /usr/local/lib/python3.7/dist-packages (from markdown>=2.6.8->tensorboard<2.9,>=2.8->tensorflow) (4.11.2)\n",
            "Requirement already satisfied: zipp>=0.5 in /usr/local/lib/python3.7/dist-packages (from importlib-metadata>=4.4->markdown>=2.6.8->tensorboard<2.9,>=2.8->tensorflow) (3.7.0)\n",
            "Requirement already satisfied: pyasn1<0.5.0,>=0.4.6 in /usr/local/lib/python3.7/dist-packages (from pyasn1-modules>=0.2.1->google-auth<3,>=1.6.3->tensorboard<2.9,>=2.8->tensorflow) (0.4.8)\n",
            "Requirement already satisfied: certifi>=2017.4.17 in /usr/local/lib/python3.7/dist-packages (from requests<3,>=2.21.0->tensorboard<2.9,>=2.8->tensorflow) (2021.10.8)\n",
            "Requirement already satisfied: idna<3,>=2.5 in /usr/local/lib/python3.7/dist-packages (from requests<3,>=2.21.0->tensorboard<2.9,>=2.8->tensorflow) (2.10)\n",
            "Requirement already satisfied: urllib3!=1.25.0,!=1.25.1,<1.26,>=1.21.1 in /usr/local/lib/python3.7/dist-packages (from requests<3,>=2.21.0->tensorboard<2.9,>=2.8->tensorflow) (1.24.3)\n",
            "Requirement already satisfied: chardet<4,>=3.0.2 in /usr/local/lib/python3.7/dist-packages (from requests<3,>=2.21.0->tensorboard<2.9,>=2.8->tensorflow) (3.0.4)\n",
            "Requirement already satisfied: oauthlib>=3.0.0 in /usr/local/lib/python3.7/dist-packages (from requests-oauthlib>=0.7.0->google-auth-oauthlib<0.5,>=0.4.1->tensorboard<2.9,>=2.8->tensorflow) (3.2.0)\n",
            "Installing collected packages: tf-estimator-nightly\n",
            "Successfully installed tf-estimator-nightly-2.8.0.dev2021122109\n"
          ]
        }
      ],
      "source": [
        "!pip install tensorflow "
      ]
    },
    {
      "cell_type": "code",
      "execution_count": 3,
      "metadata": {
        "id": "-Bp4Tfm7DSpE"
      },
      "outputs": [],
      "source": [
        "import nltk\n",
        "from nltk.stem import WordNetLemmatizer\n",
        "lemmatizer = WordNetLemmatizer()\n",
        "import json\n",
        "import pickle\n"
      ]
    },
    {
      "cell_type": "code",
      "execution_count": 4,
      "metadata": {
        "id": "hYTgkVnlDTCn"
      },
      "outputs": [],
      "source": [
        "import numpy as np\n",
        "import tensorflow as tf\n",
        "from keras.models import Sequential\n",
        "from keras.layers import Dense, Activation, Dropout\n",
        "from tensorflow.keras.optimizers import SGD\n",
        "import random"
      ]
    },
    {
      "cell_type": "code",
      "execution_count": 5,
      "metadata": {
        "id": "bKwBoHHZDV1S",
        "colab": {
          "base_uri": "https://localhost:8080/"
        },
        "outputId": "40056757-7890-45da-83f1-cc61dfaa3c92"
      },
      "outputs": [
        {
          "output_type": "stream",
          "name": "stdout",
          "text": [
            "[nltk_data] Downloading package punkt to /root/nltk_data...\n",
            "[nltk_data]   Unzipping tokenizers/punkt.zip.\n",
            "[nltk_data] Downloading package wordnet to /root/nltk_data...\n",
            "[nltk_data]   Unzipping corpora/wordnet.zip.\n"
          ]
        },
        {
          "output_type": "execute_result",
          "data": {
            "text/plain": [
              "True"
            ]
          },
          "metadata": {},
          "execution_count": 5
        }
      ],
      "source": [
        "import nltk\n",
        "nltk.download('punkt')\n",
        "import nltk\n",
        "nltk.download('wordnet')"
      ]
    },
    {
      "cell_type": "code",
      "execution_count": 6,
      "metadata": {
        "id": "fXTLiQUtEUmn"
      },
      "outputs": [],
      "source": [
        "words=[]\n",
        "classes = []\n",
        "documents = []\n",
        "ignore_words = ['?', '!', '.']\n",
        "\n",
        "with open('Draft1.json') as json_data:\n",
        "    intents = json.load(json_data)\n"
      ]
    },
    {
      "cell_type": "code",
      "execution_count": 7,
      "metadata": {
        "id": "pNIqPDG2EaeI"
      },
      "outputs": [],
      "source": [
        "for intent in intents['intents']:\n",
        "    for pattern in intent['patterns']:\n",
        "\n",
        "        #tokenize each word\n",
        "        w = nltk.word_tokenize(pattern)\n",
        "        words.extend(w)\n",
        "        #add documents in the corpus\n",
        "        documents.append((w, intent['tag']))\n",
        "\n",
        "        # add to our classes list\n",
        "        if intent['tag'] not in classes:\n",
        "            classes.append(intent['tag'])"
      ]
    },
    {
      "cell_type": "code",
      "source": [
        "print(len(words),len(classes),len(documents))"
      ],
      "metadata": {
        "id": "H0E_FOEPuWbX",
        "colab": {
          "base_uri": "https://localhost:8080/"
        },
        "outputId": "eb280e45-0894-48fe-b938-fc271461c81f"
      },
      "execution_count": 8,
      "outputs": [
        {
          "output_type": "stream",
          "name": "stdout",
          "text": [
            "5888 223 370\n"
          ]
        }
      ]
    },
    {
      "cell_type": "code",
      "execution_count": 9,
      "metadata": {
        "id": "RNUzVOFeEdOW",
        "colab": {
          "base_uri": "https://localhost:8080/"
        },
        "outputId": "2b0d066b-2fb8-4596-84ad-b5d7811c8340"
      },
      "outputs": [
        {
          "output_type": "stream",
          "name": "stdout",
          "text": [
            "370 documents\n",
            "223 classes [['greetings'], ['bye'], ['creator'], ['age'], ['functions'], ['disease1'], ['disease2'], ['disease3'], ['disease4'], ['disease5'], ['disease6'], ['disease7'], ['disease8'], ['disease9'], ['disease10'], ['disease11'], ['disease12'], ['disease13'], ['disease14'], ['disease15'], ['disease16'], ['disease17'], ['disease18'], ['disease19'], ['disease20'], ['disease21'], ['disease22'], ['disease23'], ['disease24'], ['disease25'], ['disease26'], ['disease27'], ['disease28'], ['disease29'], ['disease30'], ['disease31'], ['disease32'], ['disease33'], ['disease34'], ['disease35'], ['disease36'], ['disease37'], ['disease38'], ['disease39'], ['disease40'], ['disease41'], ['disease42'], ['disease43'], ['disease44'], ['disease45'], ['disease46'], ['disease47'], ['disease48'], ['disease49'], ['disease50'], ['disease51'], ['disease52'], ['disease53'], ['disease54'], ['disease55'], ['disease56'], ['disease57'], ['disease58'], ['disease59'], ['disease60'], ['disease61'], ['disease62'], ['disease63'], ['disease64'], ['disease65'], ['disease66'], ['disease67'], ['disease68'], ['disease69'], ['disease70'], ['disease71'], ['disease72'], ['disease73'], ['disease74'], ['disease75'], ['disease76'], ['disease77'], ['disease78'], ['disease79'], ['disease80'], ['disease81'], ['disease82'], ['disease83'], ['disease84'], ['disease85'], ['disease86'], ['disease87'], ['incubation_corona'], ['corona'], ['symptoms_corona'], ['vaccine'], ['treatment_corona'], ['protect'], ['worker_risk'], ['WHO'], ['risk_corona'], ['test_doctor'], ['covid_SARS'], ['SARS'], ['transmission_corona'], ['infectious'], ['infection'], ['risk'], ['risk_transmission'], ['risk_pregnant'], ['test_covid'], ['test'], ['allergy_covid'], ['allergy_symptoms'], ['avoid_infecting'], ['distancing'], ['mask_covid'], ['covid_influenza'], ['europe_covid'], ['EU'], ['peak'], ['schools'], ['restriction'], ['travel'], ['food'], ['animal'], ['lung'], ['measure'], ['isolate'], ['safe'], ['covid'], ['fever'], ['mask'], ['smoke'], ['condition'], ['flu_vaccine'], ['vulnerable'], ['Europe'], ['faces'], ['catch'], ['worry'], ['antibiotic'], ['medicine'], ['incubation'], ['package'], ['not_do'], ['symptoms'], ['second'], ['virus'], ['illness'], ['again'], ['spread'], ['medical'], ['reduce_infection'], ['ibuprofen'], ['house'], ['medical_appointment'], ['home'], ['worker home'], ['work'], ['friends'], ['relatives'], ['park'], ['drive'], ['rules'], ['intercollegiate'], ['teaching'], ['pregnant'], ['baby'], ['appointment'], [' pregnant'], ['child'], ['birth'], ['testing'], ['labour'], ['corona_virus'], ['stigma'], ['rise'], ['weather'], ['community'], ['temperature'], ['mosquitoes'], ['contact'], ['donate'], ['child_covid'], ['child_mask'], ['family'], ['sick'], ['sanitizer'], ['risk corona'], ['prevent'], ['treatment'], ['transmitted'], ['animlas'], ['pets'], ['incubarion'], ['worry_covid'], ['use_of_mask'], ['animal_source'], ['pet'], ['government'], ['information'], 'pills', 'about hair loss', 'about fish', 'bad smell', 'all wash', 'genetic disorders', 'heart disease', 'heart attack', 'heart health', 'heart disease and heart attack', 'flu', 'cold and flu', 'cold, flu and viral infections', 'appendix and appendicitis', 'back pain', 'common cold prevention', 'fever prevention', 'diabetes prevention', 'depression prevention', 'asthma prevention', 'Consultation']\n",
            "1078 unique lemmatized words [\"''\", \"'m\", \"'s\", '(', ')', ',', '-', '/', '10', '12', '14', '16', '17', '18', '18.', '1:41', '2', '2019', '22', '23', '3', '3-4', '32', '4', '40', '40k', '6', '7-8', '8', '9', ';', '<', '>', '``', 'a', 'abdomen', 'abdominal', 'ability', 'able', 'about', 'absence', 'accurate', 'ache', 'acial', 'activity', 'additional', 'addressed', 'adult', 'advice', 'affect', 'affected', 'afp', 'afraid', 'after', 'again', 'against', 'age', 'agitation', 'ago', 'air', 'all', 'allergy', 'allowed', 'almost', 'also', 'always', 'am', 'amount', 'an', 'anal', 'and', 'angular', 'animal', 'ankylosing', 'another', 'antenatal', 'antibiotic', 'anxiety', 'any', 'anyone', 'anything', 'apart', 'appear', 'appearance', 'appeared', 'appendectomy', 'appendicitis', 'appendix', 'appetite', 'appointment', 'are', 'area', 'arm', 'asked', 'asthma', 'at', 'atleast', 'attack', 'attend', 'attention', 'au', 'available', 'avoid', 'awful', 'baby', 'back', 'bad', 'barely', 'bath', 'be', 'became', 'because', 'become', 'becomes', 'becoming', 'been', 'beginning', 'being', 'belching', 'belly', 'below', 'between', 'bifida', 'big', 'birth', 'bit', 'blackhead', 'blade', 'blame', 'bleeding', 'blister', 'blistering', 'bloating', 'blockage', 'blocked', 'blood', 'bloody', 'bluish', 'blurred', 'blurriness', 'blushing', 'body', 'bone', 'border', 'both', 'bowel', 'break', 'breast', 'breath', 'breathing', 'bright', 'broken', 'bulimia', 'bump', 'burning', 'but', 'buy', 'by', 'c', 'ca', 'caesarean', 'called', 'came', 'can', 'cancer', 'car', 'cardio', 'care', 'carry', 'case', 'catch', 'catching', 'caught', 'cause', 'cdc', 'cell', 'centre', 'cervix', 'chain', 'chance', 'change', 'checked', 'chest', 'child', 'childbirth', 'chill', 'china', 'choice', 'chronic', 'ciao', 'clarity', 'cleaning', 'clearing', 'close', 'closed', 'clot', 'clothes', 'cloudy', 'cold', 'color', 'colour', 'coma', 'come', 'common', 'community', 'comparable', 'compared', 'completion', 'complication', 'computer', 'concentrating', 'concentration', 'condition', 'confirmed', 'confusion', 'congestion', 'conjunctivitis', 'consciousness', 'consider', 'constipation', 'consultation', 'contact', 'contain', 'continuing', 'control', 'convulsion', 'corona', 'coronavirus', 'correctable', 'cost', 'cough', 'could', 'count', 'country', 'couple', 'covering', 'covid-19', 'covid19', 'cramp', 'cramping', 'craving', 'create', 'creator', 'critical', 'crowded', 'cry', 'cure', 'current', 'currently', 'cyst', 'daily', 'darkening', 'day', 'daytime', 'decision', 'decrease', 'decreased', 'deep', 'dehydration', 'dentist', 'depression', 'detachment', 'detailed', 'deteriorating', 'deterioration', 'develop', 'developing', 'diabetes', 'diagnosed', 'diarrhea', 'did', 'die', 'diff', 'different', 'differentiate', 'difficulty', 'disappear', 'discharge', 'discoloration', 'discolored', 'discomfort', 'disease', 'disorientation', 'dispose', 'disrupted', 'distancing', 'distention', 'distinguish', 'dizziness', 'do', 'doctor', 'doe', 'doesn', 'doesnt', 'doing', 'dome-shaped', 'donate', 'done', 'dont', 'double', 'dramatic', 'drink', 'drip', 'drive', 'drooping', 'droopy', 'drowsiness', 'drug', 'dry', 'due', 'dull', 'during', 'e.g', 'each', 'ear', 'easily', 'easy', 'eat', 'eating', 'effect', 'effective', 'egg', 'elderly', 'elevated', 'eliminate', 'emergency', 'energy', 'enough', 'erection', 'especially', 'essential', 'etc', 'eu', 'eu/eea', 'europe', 'european', 'even', 'ever', 'every', 'excessive', 'exercise', 'exhaled', 'exhausted', 'exhaustion', 'expansive', 'experience', 'extremely', 'eye', 'eyelid', 'face', 'facial', 'faint', 'fainting', 'family', 'fast', 'father', 'fatigue', 'fatigued', 'fda-approved', 'fear', 'feces', 'feel', 'feeling', 'female', 'fever', 'fever/pollen', 'find', 'fine', 'first', 'firsty', 'fish', 'fissure', 'fit', 'flare', 'flashing', 'fleshy', 'floater', 'flow', 'flu', 'fluid-filled', 'flushing', 'following', 'food', 'foot', 'for', 'forehead', 'forgetfulness', 'formation', 'fracture', 'frequent', 'friend', 'from', 'frozen', 'fully', 'function', 'functionality', 'gain', 'garden', 'gene', 'general', 'gentle', 'germ', 'get', 'getting', 'give', 'gland', 'glass', 'go', 'good', 'goodbye', 'government', 'gp', 'green', 'greeting', 'groin', 'group', 'grown', 'grows', 'growth', 'ha', 'had', 'hair', 'hall', 'hallucination', 'hand', 'handling', 'happen', 'happens', 'hard', 'hardening', 'harder', 'hardhips', 'hasta', 'have', 'having', 'hay', 'haziness', 'he', 'head', 'headache', 'health', 'heart', 'heartbeat', 'heat', 'heaviness', 'heavy', 'hello', 'help', 'hey', 'hi', 'high', 'high-pitched', 'higher', 'his', 'home', 'hopelessness', 'hospital', 'hour', 'house', 'how', 'human', 'hunger', 'hyperventilation', 'i', 'ibuprofen', 'idea', 'if', 'illness', 'im', 'impact', 'imported', 'in', 'inability', 'inadequacy', 'including', 'increased', 'incubation', 'individual', 'induced', 'infected', 'infecting', 'infection', 'infectious', 'infiltrated', 'inflamed', 'inflammation', 'influenza', 'information', 'insomnia', 'instrumental', 'insurance', 'intense', 'intercollegiate', 'interrupt', 'into', 'intolerance', 'irregular', 'irritability', 'irritable', 'is', 'isolate', 'it', 'itch', 'itching', 'itchy', 'jaundice', 'joint', 'just', 'keep', 'kidney', 'kill', 'kind', 'know', 'la', 'labored', 'labour', 'lack', 'laid', 'large', 'last', 'later', 'le', 'leading', 'leave', 'leaving', 'left', 'leg', 'lethargy', 'level', 'life', 'light', 'lightheadedness', 'like', 'likely', 'limit', 'little', 'live', 'liver', 'localized', 'logistics', 'long', 'longer', 'look', 'loose', 'loss', 'lottions', 'low', 'lower', 'lung', 'lymph', 'm', 'made', 'major', 'make', 'making', 'malaise', 'managed', 'many', 'mask', 'massage', 'matter', 'maybe', 'mcburney', 'me', 'measure', 'median', 'medical', 'medicine', 'meeting', 'member', 'membrane', 'memory', 'menstrual', 'mental', 'method', 'middle', 'might', 'mild', 'mode', 'mom', 'moment', 'month', 'mood', 'more', 'mosquito', 'most', 'mouth', 'move', 'movement', 'mri', 'much', 'mucous', 'mucus', 'muscle', 'my', 'myself', \"n't\", 'nail', 'nasal', 'national', 'nausea', 'near', 'neck', 'need', 'negative_smiley', 'neighbour', 'neonate', 'nervousness', 'neurosurgeon', 'news', 'next', 'night', 'no', 'node', 'non', 'normal', 'nose', 'nosebleed', 'not', 'noticing', 'novel', 'now', 'obtain', 'occurs', 'odorless', 'of', 'off', 'often', 'oil', 'ok', 'okay', 'old', 'older', 'on', 'once', 'one', 'one-sided', 'only', 'open', 'operating', 'operation', 'opinion', 'opposed', 'or', 'orangey', 'organisation', 'orientation', 'other', 'others', 'our', 'out', 'outbreak', 'outside', 'ovary', 'own', 'package', 'packaged', 'pain', 'painful', 'painless', 'pale', 'palpitation', 'pandemic', 'paralysis', 'park', 'part', 'particularly', 'partner', 'pas', 'past', 'peak', 'pelvic', 'penile', 'penis', 'people', 'period', 'person', 'pet', 'physical', 'physiotherapist', 'pill', 'pimple', 'pink', 'plane', 'plaque', 'plausible', 'please', 'point', 'pollen', 'poor', 'population', 'positive', 'possible', 'postnasal', 'postnatal', 'potential', 'pounding', 'pre-existing', 'precaution', 'pregnancy', 'pregnant', 'prepare', 'prepared', 'prescribe', 'present', 'pressure', 'pressured', 'pretty', 'prevent', 'preventing', 'prevention', 'problem', 'product', 'production', 'program', 'prolapse', 'protect', 'protected', 'protecting', 'protection', 'proved', 'provide', 'provided', 'pu', 'pus-filled', 'put', 'quarrelsomeness', 'question', 'quite', 'racing', 'raised', 'ranging', 'rapid', 'rash', 'rate', 'rather', 'really', 'receive', 'recently', 'recommend', 'recommendation', 'recovered', 'recovering', 'rectal', 'red', 'reddish', 'redness', 'reduce', 'reducing', 'refer', 'refrigerated', 'regularly', 'related', 'relates', 'relative', 'remedy', 'reported', 'residence', 'respiratory', 'responsiveness', 'restaurant', 'restlessness', 'restriction', 'result', 'retail', 'revior', 'right', 'ringing', 'rise', 'risk', 'role', 'rule', 'ruled', 'running', 'runny', 'ruptured', 'safe', 'saliva', 'salivary', 'same', 'sanitizer', 'sars', 'sars-cov-2', 'say', 'scale', 'scalp', 'scaly', 'scanty', 'school', 'scientific', 'scratchy', 'searing', 'seasonal', 'seat', 'second', 'see', 'seeing', 'seem', 'seizure', 'self', 'self-isolate', 'self-isolating', 'self-isolation', 'sensation', 'sensitivity', 'serious', 'service', 'session', 'set', 'setting', 'sever', 'severe', 'sex', 'shallow', 'shape', 'shed', 'shiny', 'shipping', 'shoot', 'short', 'shortness', 'should', 'shoulder', 'show', 'showed', 'sick', 'side', 'sign', 'similar', 'simple', 'sinus', 'sit', 'sitting', 'situation', 'size', 'skin', 'sleep', 'sleepiness', 'slow', 'small', 'smell', 'smoke', 'sneezing', 'so', 'soap', 'social', 'some', 'somebody', 'someone', 'sometimes', 'sore', 'sort', 'sound', 'source', 'space', 'speech', 'spina', 'spine', 'spondylitis', 'spot', 'spread', 'spreading', 'stabbing', 'standing', 'standpoint', 'start', 'started', 'starting', 'stay', 'step', 'stiff', 'stiffness', 'stigma', 'still', 'sting-like', 'stinging', 'stomach', 'stomachache', 'stone', 'stop', 'store', 'straight', 'strand', 'stretching', 'strong', 'stronger', 'student', 'stump', 'style', 'sudden', 'suffer', 'suffered', 'suffering', 'sugar', 'suggestion', 'supply', 'surface', 'surgeon', 'survive', 'suspected', 'swallowing', 'sweat', 'sweating', 'swell', 'swelling', 'swollen', 'symptom', 'syndrome', 't', 'take', 'taken', 'teaching', 'teeth', 'tell', 'temperature', 'tenderness', 'tense', 'term', 'test', 'tested', 'texture', 'than', 'thank', 'thanks', 'thankyou', 'that', 'the', 'theatre', 'their', 'therapy', 'there', 'these', 'they', 'thick', 'thickening', 'thicker', 'thin', 'thirst', 'this', 'tho', 'those', 'thought', 'three', 'throat', 'throbbing', 'through', 'tie', 'tightness', 'time', 'tingling', 'tiny', 'tired', 'tiredness', 'tissue', 'to', 'told', 'tone', 'tonsil', 'too', 'tract', 'transmission', 'transmitted', 'travel', 'travelling', 'treat', 'treating', 'treatment', 'tremor', 'trick', 'tried', 'trim', 'trisomy', 'trouble', 'try', 'twisting', 'two', 'type', 'typical', 'typically', 'ulcer', 'ultrasound', 'under', 'underweight', 'unexplained', 'unfit', 'uninflamed', 'union', 'unwell', 'unworthy', 'up', 'up-to-date', 'updated', 'upper', 'upset', 'urethra', 'urgently', 'urinary', 'urinate', 'urination', 'urine', 'us', 'use', 'using', 'usually', 'uterus', 'vaccine', 'vaginal', 'vegetarian', 'vein', 'very', 'violet', 'virus', 'viruse', 'visible', 'vision', 'visit', 'visited', 'vista', 'vomiting', 'vulnerable', 'wa', 'waking', 'walk', 'walled', 'wanting', 'warm', 'wash', 'water', 'watery', 'way', 'we', 'weakened', 'weakness', 'wear', 'weather', 'week', 'weight', 'welt', 'what', 'whats', 'wheezing', 'when', 'whenever', 'where', 'which', 'while', 'white', 'who', 'why', 'wide', 'will', 'window', 'wiped', 'with', 'withdrawal', 'without', 'woman', 'womb', 'wondering', 'work', 'worker', 'working', 'workout', 'worried', 'worry', 'worse', 'worsen', 'worst', 'would', 'year', 'yellow', 'yellowy', 'you', 'your', 'yourself', '–', '‘', '’']\n"
          ]
        }
      ],
      "source": [
        "words = [lemmatizer.lemmatize(w.lower()) for w in words if w not in ignore_words]\n",
        "words = sorted(list(set(words)))\n",
        "# sort classes\n",
        "# classes = sorted(list(set(classes)))\n",
        "# documents = combination between patterns and intents\n",
        "print (len(documents), \"documents\")\n",
        "# classes = intents\n",
        "print (len(classes), \"classes\", classes)\n",
        "# words = all words, vocabulary\n",
        "print (len(words), \"unique lemmatized words\", words)\n",
        "\n",
        "\n",
        "pickle.dump(words,open('words.pkl','wb'))\n",
        "pickle.dump(classes,open('classes.pkl','wb'))"
      ]
    },
    {
      "cell_type": "code",
      "execution_count": 10,
      "metadata": {
        "id": "UfJ3VS19EwPv",
        "colab": {
          "base_uri": "https://localhost:8080/"
        },
        "outputId": "287d6190-59ba-423a-ffe9-4c6608f2ded6"
      },
      "outputs": [
        {
          "output_type": "stream",
          "name": "stdout",
          "text": [
            "Training data created\n"
          ]
        },
        {
          "output_type": "stream",
          "name": "stderr",
          "text": [
            "/usr/local/lib/python3.7/dist-packages/ipykernel_launcher.py:25: VisibleDeprecationWarning: Creating an ndarray from ragged nested sequences (which is a list-or-tuple of lists-or-tuples-or ndarrays with different lengths or shapes) is deprecated. If you meant to do this, you must specify 'dtype=object' when creating the ndarray.\n"
          ]
        }
      ],
      "source": [
        "\n",
        "# create our training data\n",
        "training = []\n",
        "# create an empty array for our output\n",
        "output_empty = [0] * len(classes)\n",
        "# training set, bag of words for each sentence\n",
        "for doc in documents:\n",
        "    # initialize our bag of words\n",
        "    bag = []\n",
        "    # list of tokenized words for the pattern\n",
        "    pattern_words = doc[0]\n",
        "    # lemmatize each word - create base word, in attempt to represent related words\n",
        "    pattern_words = [lemmatizer.lemmatize(word.lower()) for word in pattern_words]\n",
        "    # create our bag of words array with 1, if word match found in current pattern\n",
        "    for w in words:\n",
        "        bag.append(1) if w in pattern_words else bag.append(0)\n",
        "    \n",
        "    # output is a '0' for each tag and '1' for current tag (for each pattern)\n",
        "    output_row = list(output_empty)\n",
        "    output_row[classes.index(doc[1])] = 1\n",
        "    \n",
        "    training.append([bag, output_row])\n",
        "# shuffle our features and turn into np.array\n",
        "random.shuffle(training)\n",
        "training = np.array(training)\n",
        "# create train and test lists. X - patterns, Y - intents\n",
        "train_x = list(training[:,0])\n",
        "train_y = list(training[:,1])\n",
        "print(\"Training data created\")\n"
      ]
    },
    {
      "cell_type": "code",
      "source": [
        ""
      ],
      "metadata": {
        "id": "tmbx_SSR35KE"
      },
      "execution_count": 10,
      "outputs": []
    },
    {
      "cell_type": "code",
      "source": [
        "from sklearn.model_selection import train_test_split\n",
        "X_train, X_test, Y_train, Y_test = train_test_split(np.array(train_x), np.array(train_y), test_size=0.20)"
      ],
      "metadata": {
        "id": "fF3Swrxu3rjt"
      },
      "execution_count": 11,
      "outputs": []
    },
    {
      "cell_type": "code",
      "execution_count": 12,
      "metadata": {
        "id": "B2tEugV3FIRw",
        "colab": {
          "base_uri": "https://localhost:8080/"
        },
        "outputId": "39abe68b-df23-46b8-eea6-9e0cd32099dd"
      },
      "outputs": [
        {
          "output_type": "stream",
          "name": "stdout",
          "text": [
            "Model: \"sequential\"\n",
            "_________________________________________________________________\n",
            " Layer (type)                Output Shape              Param #   \n",
            "=================================================================\n",
            " dense (Dense)               (None, 256)               276224    \n",
            "                                                                 \n",
            " dropout (Dropout)           (None, 256)               0         \n",
            "                                                                 \n",
            " dense_1 (Dense)             (None, 128)               32896     \n",
            "                                                                 \n",
            " dropout_1 (Dropout)         (None, 128)               0         \n",
            "                                                                 \n",
            " dense_2 (Dense)             (None, 223)               28767     \n",
            "                                                                 \n",
            "=================================================================\n",
            "Total params: 337,887\n",
            "Trainable params: 337,887\n",
            "Non-trainable params: 0\n",
            "_________________________________________________________________\n"
          ]
        },
        {
          "output_type": "stream",
          "name": "stderr",
          "text": [
            "/usr/local/lib/python3.7/dist-packages/keras/optimizer_v2/gradient_descent.py:102: UserWarning: The `lr` argument is deprecated, use `learning_rate` instead.\n",
            "  super(SGD, self).__init__(name, **kwargs)\n"
          ]
        }
      ],
      "source": [
        "# Create model - 3 layers. First layer 128 neurons, second layer 64 neurons and 3rd output layer contains number of neurons\n",
        "# equal to number of intents to predict output intent with softmax\n",
        "model = Sequential()\n",
        "model.add(Dense(256, input_shape=(len(X_train[0]),), activation='relu'))\n",
        "model.add(Dropout(0.5))\n",
        "model.add(Dense(128, activation='relu'))\n",
        "model.add(Dropout(0.5))\n",
        "model.add(Dense(len(Y_train[0]), activation='softmax'))\n",
        "\n",
        "model.summary()\n",
        "# Compile model. Stochastic gradient descent with Nesterov accelerated gradient gives good results for this model\n",
        "sgd = SGD(lr=0.01, decay=1e-6, momentum=0.9, nesterov=True)"
      ]
    },
    {
      "cell_type": "code",
      "execution_count": 13,
      "metadata": {
        "id": "tibq3PcwC3hm"
      },
      "outputs": [],
      "source": [
        "\n",
        "\n",
        "####epochs\n",
        "no_epochs=200\n",
        "model.compile(loss='categorical_crossentropy', optimizer=sgd, metrics=['accuracy'])"
      ]
    },
    {
      "cell_type": "code",
      "execution_count": 14,
      "metadata": {
        "id": "lLq81Q-FHDGP",
        "colab": {
          "base_uri": "https://localhost:8080/"
        },
        "outputId": "6a69838e-b5a3-49d7-f23d-2b184ac4dccc"
      },
      "outputs": [
        {
          "output_type": "stream",
          "name": "stdout",
          "text": [
            "Epoch 1/50\n",
            "60/60 [==============================] - 3s 7ms/step - loss: 5.4065 - accuracy: 0.0068 - val_loss: 5.3941 - val_accuracy: 0.0270\n",
            "Epoch 2/50\n",
            "60/60 [==============================] - 0s 4ms/step - loss: 5.3087 - accuracy: 0.0372 - val_loss: 5.3719 - val_accuracy: 0.0135\n",
            "Epoch 3/50\n",
            "60/60 [==============================] - 0s 4ms/step - loss: 5.1731 - accuracy: 0.0405 - val_loss: 5.3526 - val_accuracy: 0.0135\n",
            "Epoch 4/50\n",
            "60/60 [==============================] - 0s 4ms/step - loss: 5.0448 - accuracy: 0.0338 - val_loss: 5.3198 - val_accuracy: 0.0270\n",
            "Epoch 5/50\n",
            "60/60 [==============================] - 0s 4ms/step - loss: 4.8312 - accuracy: 0.0541 - val_loss: 5.3671 - val_accuracy: 0.0270\n",
            "Epoch 6/50\n",
            "60/60 [==============================] - 0s 4ms/step - loss: 4.6992 - accuracy: 0.0608 - val_loss: 5.3386 - val_accuracy: 0.0405\n",
            "Epoch 7/50\n",
            "60/60 [==============================] - 0s 4ms/step - loss: 4.4082 - accuracy: 0.1081 - val_loss: 5.3080 - val_accuracy: 0.0541\n",
            "Epoch 8/50\n",
            "60/60 [==============================] - 0s 4ms/step - loss: 4.2313 - accuracy: 0.1520 - val_loss: 5.2810 - val_accuracy: 0.0946\n",
            "Epoch 9/50\n",
            "60/60 [==============================] - 0s 4ms/step - loss: 4.0024 - accuracy: 0.1689 - val_loss: 5.2560 - val_accuracy: 0.0946\n",
            "Epoch 10/50\n",
            "60/60 [==============================] - 0s 4ms/step - loss: 3.7954 - accuracy: 0.2162 - val_loss: 5.2522 - val_accuracy: 0.0946\n",
            "Epoch 11/50\n",
            "60/60 [==============================] - 0s 3ms/step - loss: 3.6148 - accuracy: 0.2230 - val_loss: 5.0823 - val_accuracy: 0.1351\n",
            "Epoch 12/50\n",
            "60/60 [==============================] - 0s 4ms/step - loss: 3.3179 - accuracy: 0.2466 - val_loss: 5.1147 - val_accuracy: 0.1351\n",
            "Epoch 13/50\n",
            "60/60 [==============================] - 0s 4ms/step - loss: 3.1739 - accuracy: 0.2905 - val_loss: 5.1702 - val_accuracy: 0.1216\n",
            "Epoch 14/50\n",
            "60/60 [==============================] - 0s 4ms/step - loss: 2.9887 - accuracy: 0.3345 - val_loss: 5.3328 - val_accuracy: 0.1622\n",
            "Epoch 15/50\n",
            "60/60 [==============================] - 0s 4ms/step - loss: 2.8296 - accuracy: 0.3378 - val_loss: 5.2375 - val_accuracy: 0.1486\n",
            "Epoch 16/50\n",
            "60/60 [==============================] - 0s 4ms/step - loss: 2.6076 - accuracy: 0.3885 - val_loss: 5.4054 - val_accuracy: 0.1622\n",
            "Epoch 17/50\n",
            "60/60 [==============================] - 0s 4ms/step - loss: 2.3544 - accuracy: 0.4088 - val_loss: 5.4566 - val_accuracy: 0.1486\n",
            "Epoch 18/50\n",
            "60/60 [==============================] - 0s 4ms/step - loss: 2.1745 - accuracy: 0.4358 - val_loss: 5.4654 - val_accuracy: 0.2027\n",
            "Epoch 19/50\n",
            "60/60 [==============================] - 0s 4ms/step - loss: 2.0675 - accuracy: 0.5000 - val_loss: 5.6358 - val_accuracy: 0.1757\n",
            "Epoch 20/50\n",
            "60/60 [==============================] - 0s 4ms/step - loss: 2.0171 - accuracy: 0.4865 - val_loss: 5.5752 - val_accuracy: 0.1622\n",
            "Epoch 21/50\n",
            "60/60 [==============================] - 0s 4ms/step - loss: 1.8967 - accuracy: 0.4966 - val_loss: 5.7077 - val_accuracy: 0.1486\n",
            "Epoch 22/50\n",
            "60/60 [==============================] - 0s 4ms/step - loss: 1.7135 - accuracy: 0.5676 - val_loss: 5.5837 - val_accuracy: 0.1351\n",
            "Epoch 23/50\n",
            "60/60 [==============================] - 0s 4ms/step - loss: 1.4704 - accuracy: 0.6554 - val_loss: 5.9333 - val_accuracy: 0.1757\n",
            "Epoch 24/50\n",
            "60/60 [==============================] - 0s 4ms/step - loss: 1.3737 - accuracy: 0.6047 - val_loss: 6.0132 - val_accuracy: 0.2027\n",
            "Epoch 25/50\n",
            "60/60 [==============================] - 0s 4ms/step - loss: 1.3016 - accuracy: 0.6622 - val_loss: 6.1048 - val_accuracy: 0.1757\n",
            "Epoch 26/50\n",
            "60/60 [==============================] - 0s 4ms/step - loss: 1.5649 - accuracy: 0.6149 - val_loss: 5.8037 - val_accuracy: 0.1486\n",
            "Epoch 27/50\n",
            "60/60 [==============================] - 0s 4ms/step - loss: 1.4100 - accuracy: 0.6453 - val_loss: 6.0806 - val_accuracy: 0.1486\n",
            "Epoch 28/50\n",
            "60/60 [==============================] - 0s 4ms/step - loss: 1.3201 - accuracy: 0.6419 - val_loss: 6.0039 - val_accuracy: 0.1892\n",
            "Epoch 29/50\n",
            "60/60 [==============================] - 0s 4ms/step - loss: 1.1394 - accuracy: 0.7095 - val_loss: 6.1556 - val_accuracy: 0.2027\n",
            "Epoch 30/50\n",
            "60/60 [==============================] - 0s 4ms/step - loss: 1.0719 - accuracy: 0.7162 - val_loss: 6.0862 - val_accuracy: 0.1486\n",
            "Epoch 31/50\n",
            "60/60 [==============================] - 0s 4ms/step - loss: 1.1795 - accuracy: 0.6588 - val_loss: 6.1100 - val_accuracy: 0.2027\n",
            "Epoch 32/50\n",
            "60/60 [==============================] - 0s 4ms/step - loss: 0.9860 - accuracy: 0.7365 - val_loss: 6.2577 - val_accuracy: 0.1757\n",
            "Epoch 33/50\n",
            "60/60 [==============================] - 0s 4ms/step - loss: 0.9264 - accuracy: 0.7399 - val_loss: 6.4352 - val_accuracy: 0.1622\n",
            "Epoch 34/50\n",
            "60/60 [==============================] - 0s 4ms/step - loss: 0.9983 - accuracy: 0.6993 - val_loss: 6.2716 - val_accuracy: 0.1622\n",
            "Epoch 35/50\n",
            "60/60 [==============================] - 0s 4ms/step - loss: 0.9203 - accuracy: 0.7297 - val_loss: 6.4838 - val_accuracy: 0.1757\n",
            "Epoch 36/50\n",
            "60/60 [==============================] - 0s 4ms/step - loss: 0.9524 - accuracy: 0.7736 - val_loss: 6.2237 - val_accuracy: 0.1622\n",
            "Epoch 37/50\n",
            "60/60 [==============================] - 0s 4ms/step - loss: 0.9514 - accuracy: 0.7432 - val_loss: 6.4647 - val_accuracy: 0.1757\n",
            "Epoch 38/50\n",
            "60/60 [==============================] - 0s 4ms/step - loss: 0.9324 - accuracy: 0.7432 - val_loss: 6.0643 - val_accuracy: 0.2027\n",
            "Epoch 39/50\n",
            "60/60 [==============================] - 0s 4ms/step - loss: 0.6674 - accuracy: 0.8209 - val_loss: 6.4974 - val_accuracy: 0.2297\n",
            "Epoch 40/50\n",
            "60/60 [==============================] - 0s 4ms/step - loss: 0.8580 - accuracy: 0.7872 - val_loss: 6.5040 - val_accuracy: 0.1892\n",
            "Epoch 41/50\n",
            "60/60 [==============================] - 0s 4ms/step - loss: 0.8212 - accuracy: 0.7872 - val_loss: 6.3303 - val_accuracy: 0.1892\n",
            "Epoch 42/50\n",
            "60/60 [==============================] - 0s 4ms/step - loss: 0.6770 - accuracy: 0.7838 - val_loss: 6.5010 - val_accuracy: 0.1622\n",
            "Epoch 43/50\n",
            "60/60 [==============================] - 0s 4ms/step - loss: 0.7739 - accuracy: 0.7973 - val_loss: 6.5916 - val_accuracy: 0.2162\n",
            "Epoch 44/50\n",
            "60/60 [==============================] - 0s 4ms/step - loss: 0.6185 - accuracy: 0.8243 - val_loss: 6.6679 - val_accuracy: 0.1892\n",
            "Epoch 45/50\n",
            "60/60 [==============================] - 0s 4ms/step - loss: 0.5670 - accuracy: 0.8480 - val_loss: 6.7885 - val_accuracy: 0.1622\n",
            "Epoch 46/50\n",
            "60/60 [==============================] - 0s 4ms/step - loss: 0.5444 - accuracy: 0.8480 - val_loss: 6.8574 - val_accuracy: 0.1892\n",
            "Epoch 47/50\n",
            "60/60 [==============================] - 0s 4ms/step - loss: 0.5781 - accuracy: 0.8176 - val_loss: 6.8045 - val_accuracy: 0.2297\n",
            "Epoch 48/50\n",
            "60/60 [==============================] - 0s 4ms/step - loss: 0.7216 - accuracy: 0.7804 - val_loss: 6.7033 - val_accuracy: 0.2027\n",
            "Epoch 49/50\n",
            "60/60 [==============================] - 0s 4ms/step - loss: 0.6436 - accuracy: 0.8277 - val_loss: 6.8404 - val_accuracy: 0.1892\n",
            "Epoch 50/50\n",
            "60/60 [==============================] - 0s 4ms/step - loss: 0.5812 - accuracy: 0.8277 - val_loss: 6.9737 - val_accuracy: 0.2027\n"
          ]
        }
      ],
      "source": [
        "# # fitting and saving the model \n",
        "# hist = model.fit(np.array(train_x), np.array(train_y), epochs=no_epochs, batch_size=5, verbose=1)\n",
        "from keras.callbacks import History\n",
        "history = History()\n",
        "m = model.fit(X_train, Y_train, validation_data = (X_test, Y_test),\n",
        "                   epochs = 50, batch_size = 5, callbacks = [history])    "
      ]
    },
    {
      "cell_type": "code",
      "source": [
        "import matplotlib.pyplot as plt\n",
        "plt.plot(m.history['accuracy'])\n",
        "plt.plot(m.history['val_accuracy'])\n",
        "plt.title('model accuracy')\n",
        "plt.ylabel('accuracy')\n",
        "plt.xlabel('epoch')\n",
        "plt.legend(['train', 'test'], loc='upper left')\n",
        "plt.show()\n",
        "\n",
        "plt.plot(m.history['loss'])\n",
        "plt.plot(m.history['val_loss'])\n",
        "plt.title('model loss')\n",
        "plt.ylabel('loss')\n",
        "plt.xlabel('epoch')\n",
        "plt.legend(['train', 'test'], loc='upper left')\n",
        "\n",
        "model.save('chatbot_model.h5')\n",
        "print(\"model created\")"
      ],
      "metadata": {
        "colab": {
          "base_uri": "https://localhost:8080/",
          "height": 590
        },
        "id": "S4cbbkBA4m_G",
        "outputId": "b8f2b70b-13d4-4628-bffc-46da3e256f8e"
      },
      "execution_count": 19,
      "outputs": [
        {
          "output_type": "display_data",
          "data": {
            "image/png": "[encoded data removed]",
            "text/plain": [
              "<Figure size 432x288 with 1 Axes>"
            ]
          },
          "metadata": {
            "needs_background": "light"
          }
        },
        {
          "output_type": "stream",
          "name": "stdout",
          "text": [
            "model created\n"
          ]
        },
        {
          "output_type": "display_data",
          "data": {
            "image/png": "[encoded data removed]",
            "text/plain": [
              "<Figure size 432x288 with 1 Axes>"
            ]
          },
          "metadata": {
            "needs_background": "light"
          }
        }
      ]
    }
  ],
  "metadata": {
    "colab": {
      "name": "Chatbot for medbot+covid.ipynb",
      "provenance": [],
      "collapsed_sections": []
    },
    "kernelspec": {
      "display_name": "Python 3",
      "name": "python3"
    },
    "language_info": {
      "name": "python"
    },
    "accelerator": "GPU"
  },
  "nbformat": 4,
  "nbformat_minor": 0
}