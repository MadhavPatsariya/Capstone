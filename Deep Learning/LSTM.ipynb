{
  "cells": [
    {
      "metadata": {
        "id": "xpecFFrBR9op"
      },
      "cell_type": "markdown",
      "source": [
        "### Import libraries"
      ]
    },
    {
      "metadata": {
        "_uuid": "8f2839f25d086af736a60e9eeb907d3b93b6e0e5",
        "_cell_guid": "b1076dfc-b9ad-4769-8c92-a6c4dae69d19",
        "trusted": true,
        "id": "wBlD7HIxR9ou"
      },
      "cell_type": "code",
      "source": [
        "import numpy as np\n",
        "import json\n",
        "import re\n",
        "import tensorflow as tf\n",
        "import random\n",
        "import spacy\n",
        "nlp = spacy.load('en_core_web_sm')"
      ],
      "execution_count": 17,
      "outputs": []
    },
    {
      "metadata": {
        "id": "mrLzfx1aR9ow"
      },
      "cell_type": "markdown",
      "source": [
        "### Import json file"
      ]
    },
    {
      "metadata": {
        "_uuid": "d629ff2d2480ee46fbb7e2d37f6b5fab8052498a",
        "_cell_guid": "79c7e3d0-c299-4dcb-8224-4455121ee9b0",
        "trusted": true,
        "id": "9vo5REmqR9ox"
      },
      "cell_type": "code",
      "source": [
        "with open('intents_2.json') as f:\n",
        "    intents = json.load(f)"
      ],
      "execution_count": 18,
      "outputs": []
    },
    {
      "metadata": {
        "id": "h50v_EWfR9ox"
      },
      "cell_type": "markdown",
      "source": [
        "### Preprocessing data\n",
        "In this part we gonna clean data, split them into inputs and targets tensor, build a tokenizer dictionary and turn sentences into sequences.\n",
        "The target tensor has a bunch of list with a length of unique title list."
      ]
    },
    {
      "metadata": {
        "trusted": true,
        "id": "9q6ks38qR9oy"
      },
      "cell_type": "code",
      "source": [
        "def preprocessing(line):\n",
        "    line = re.sub(r'[^a-zA-z.?!\\']', ' ', line)\n",
        "    line = re.sub(r'[ ]+', ' ', line)\n",
        "    return line"
      ],
      "execution_count": 19,
      "outputs": []
    },
    {
      "cell_type": "code",
      "source": [
        "def isString(x):\n",
        "  return isinstance(x, str)"
      ],
      "metadata": {
        "id": "rNXj3VwvZ0MG"
      },
      "execution_count": 20,
      "outputs": []
    },
    {
      "cell_type": "code",
      "source": [
        "def listToString(s): \n",
        "    \n",
        "    # initialize an empty string\n",
        "    str1 = \" \" \n",
        "    \n",
        "    # return string  \n",
        "    return (str1.join(s))"
      ],
      "metadata": {
        "id": "pqKHZsSkaVMM"
      },
      "execution_count": 21,
      "outputs": []
    },
    {
      "metadata": {
        "trusted": true,
        "id": "KyTuivvIR9oy"
      },
      "cell_type": "code",
      "source": [
        "# get text and intent title from json data\n",
        "inputs, targets = [], []\n",
        "classes = []\n",
        "intent_doc = {}\n",
        "\n",
        "for intent in intents['intents']:\n",
        "    if(isString(intent['tag'])):\n",
        "      if intent['tag'] not in classes:\n",
        "        classes.append(intent['tag'])\n",
        "      if intent['tag'] not in intent_doc:\n",
        "        intent_doc[intent['tag']] = []\n",
        "    else:\n",
        "      tag = listToString(intent['tag'])\n",
        "      if tag not in classes:\n",
        "        classes.append(tag)\n",
        "      if tag not in intent_doc:\n",
        "        intent_doc[tag] = []\n",
        "        \n",
        "    for text in intent['patterns']:\n",
        "        inputs.append(preprocessing(text))\n",
        "        targets.append(intent['tag'])"
      ],
      "execution_count": 22,
      "outputs": []
    },
    {
      "metadata": {
        "trusted": true,
        "id": "YLYDsC_eR9o0"
      },
      "cell_type": "code",
      "source": [
        "def tokenize_data(input_list):\n",
        "    tokenizer = tf.keras.preprocessing.text.Tokenizer(filters='', oov_token='<unk>')\n",
        "    \n",
        "    tokenizer.fit_on_texts(input_list)\n",
        "    \n",
        "    input_seq = tokenizer.texts_to_sequences(input_list)\n",
        "\n",
        "    input_seq = tf.keras.preprocessing.sequence.pad_sequences(input_seq, padding='pre')\n",
        "    \n",
        "    return tokenizer, input_seq\n",
        "\n",
        "# preprocess input data\n",
        "tokenizer, input_tensor = tokenize_data(inputs)"
      ],
      "execution_count": 23,
      "outputs": []
    },
    {
      "metadata": {
        "trusted": true,
        "id": "YofU8mZjR9o1"
      },
      "cell_type": "code",
      "source": [
        "def create_categorical_target(targets):\n",
        "    word={}\n",
        "    categorical_target=[]\n",
        "    counter=0\n",
        "    for trg in targets:\n",
        "        x = trg[0]\n",
        "        if x not in word:\n",
        "            word[x]=counter\n",
        "            counter+=1\n",
        "        categorical_target.append(word[x])\n",
        "    \n",
        "    categorical_tensor = tf.keras.utils.to_categorical(categorical_target, num_classes=len(word), dtype='int32')\n",
        "    return categorical_tensor, dict((v,k) for k, v in word.items())\n",
        "\n",
        "# preprocess output data\n",
        "target_tensor, trg_index_word = create_categorical_target(targets)"
      ],
      "execution_count": 24,
      "outputs": []
    },
    {
      "metadata": {
        "trusted": true,
        "colab": {
          "base_uri": "https://localhost:8080/"
        },
        "id": "9BPyeu45R9o1",
        "outputId": "df8071c2-9b09-4ed5-fee6-afa7303d384a"
      },
      "cell_type": "code",
      "source": [
        "print('input shape: {} and output shape: {}'.format(input_tensor.shape, target_tensor.shape))"
      ],
      "execution_count": 25,
      "outputs": [
        {
          "output_type": "stream",
          "name": "stdout",
          "text": [
            "input shape: (1457, 39) and output shape: (1457, 221)\n"
          ]
        }
      ]
    },
    {
      "metadata": {
        "id": "nLueR8WKR9o2"
      },
      "cell_type": "markdown",
      "source": [
        "### Build the model"
      ]
    },
    {
      "cell_type": "code",
      "source": [
        "from sklearn.model_selection import train_test_split\n",
        "X_train, X_test, Y_train, Y_test = train_test_split(input_tensor,target_tensor,test_size=0.15)"
      ],
      "metadata": {
        "id": "trv9oXR8eNtt"
      },
      "execution_count": 38,
      "outputs": []
    },
    {
      "metadata": {
        "trusted": true,
        "id": "NyeXCFXMR9o3"
      },
      "cell_type": "code",
      "source": [
        "# hyperparameters\n",
        "epochs=50\n",
        "vocab_size=len(tokenizer.word_index) + 1\n",
        "embed_dim=256\n",
        "units=128\n",
        "target_length=target_tensor.shape[1]"
      ],
      "execution_count": 39,
      "outputs": []
    },
    {
      "metadata": {
        "trusted": true,
        "colab": {
          "base_uri": "https://localhost:8080/"
        },
        "id": "0bbFCT_QR9o3",
        "outputId": "1c3b9402-a568-448c-ad9d-7def0dd892ad"
      },
      "cell_type": "code",
      "source": [
        "# build RNN Model with tensorflow\n",
        "model = tf.keras.models.Sequential([\n",
        "    tf.keras.layers.Embedding(vocab_size, embed_dim),\n",
        "    tf.keras.layers.LSTM(units, dropout=0.3),\n",
        "    tf.keras.layers.Dense(units, activation='tanh'),\n",
        "    tf.keras.layers.Dropout(0.3),\n",
        "    tf.keras.layers.Dense(64, activation='tanh'),\n",
        "    tf.keras.layers.Dropout(0.3),\n",
        "     tf.keras.layers.Dense(64, activation='relu'),\n",
        "    tf.keras.layers.Dropout(0.3),\n",
        "    tf.keras.layers.Dense(target_length, activation='softmax')\n",
        "])\n",
        "optimizer = tf.keras.optimizers.Adam(lr=1e-3)\n",
        "model.compile(optimizer=optimizer, loss='categorical_crossentropy', metrics=['accuracy'])\n",
        "model.summary()"
      ],
      "execution_count": 42,
      "outputs": [
        {
          "output_type": "stream",
          "name": "stdout",
          "text": [
            "Model: \"sequential_6\"\n",
            "_________________________________________________________________\n",
            " Layer (type)                Output Shape              Param #   \n",
            "=================================================================\n",
            " embedding_6 (Embedding)     (None, None, 256)         256256    \n",
            "                                                                 \n",
            " lstm_6 (LSTM)               (None, 128)               197120    \n",
            "                                                                 \n",
            " dense_24 (Dense)            (None, 128)               16512     \n",
            "                                                                 \n",
            " dropout_18 (Dropout)        (None, 128)               0         \n",
            "                                                                 \n",
            " dense_25 (Dense)            (None, 64)                8256      \n",
            "                                                                 \n",
            " dropout_19 (Dropout)        (None, 64)                0         \n",
            "                                                                 \n",
            " dense_26 (Dense)            (None, 64)                4160      \n",
            "                                                                 \n",
            " dropout_20 (Dropout)        (None, 64)                0         \n",
            "                                                                 \n",
            " dense_27 (Dense)            (None, 221)               14365     \n",
            "                                                                 \n",
            "=================================================================\n",
            "Total params: 496,669\n",
            "Trainable params: 496,669\n",
            "Non-trainable params: 0\n",
            "_________________________________________________________________\n"
          ]
        },
        {
          "output_type": "stream",
          "name": "stderr",
          "text": [
            "/usr/local/lib/python3.7/dist-packages/keras/optimizer_v2/adam.py:105: UserWarning: The `lr` argument is deprecated, use `learning_rate` instead.\n",
            "  super(Adam, self).__init__(name, **kwargs)\n"
          ]
        }
      ]
    },
    {
      "cell_type": "code",
      "source": [
        "# early_stop = tf.keras.callbacks.EarlyStopping(monitor='loss', patience=4)\n",
        "\n",
        "# train the model\n",
        "# model.fit(input_tensor, target_tensor, epochs=epochs)\n",
        "from keras.callbacks import History\n",
        "history = History()\n",
        "m = model.fit(X_train, Y_train, validation_data = (X_test, Y_test), batch_size = 5,\n",
        "                   epochs = 50, callbacks = [history]) "
      ],
      "metadata": {
        "colab": {
          "base_uri": "https://localhost:8080/"
        },
        "id": "BoxRL4tfRRuY",
        "outputId": "309966fa-2be5-468d-8e59-7207ed957622"
      },
      "execution_count": 43,
      "outputs": [
        {
          "output_type": "stream",
          "name": "stdout",
          "text": [
            "Epoch 1/50\n",
            "248/248 [==============================] - 7s 18ms/step - loss: 4.8843 - accuracy: 0.0291 - val_loss: 4.3036 - val_accuracy: 0.0594\n",
            "Epoch 2/50\n",
            "248/248 [==============================] - 4s 15ms/step - loss: 3.8149 - accuracy: 0.0985 - val_loss: 3.5702 - val_accuracy: 0.2283\n",
            "Epoch 3/50\n",
            "248/248 [==============================] - 4s 15ms/step - loss: 3.1487 - accuracy: 0.2221 - val_loss: 2.8318 - val_accuracy: 0.4292\n",
            "Epoch 4/50\n",
            "248/248 [==============================] - 4s 15ms/step - loss: 2.5506 - accuracy: 0.3643 - val_loss: 2.3635 - val_accuracy: 0.5434\n",
            "Epoch 5/50\n",
            "248/248 [==============================] - 4s 15ms/step - loss: 2.0648 - accuracy: 0.4774 - val_loss: 2.0119 - val_accuracy: 0.6438\n",
            "Epoch 6/50\n",
            "248/248 [==============================] - 4s 15ms/step - loss: 1.8019 - accuracy: 0.5380 - val_loss: 1.7705 - val_accuracy: 0.6621\n",
            "Epoch 7/50\n",
            "248/248 [==============================] - 4s 15ms/step - loss: 1.5267 - accuracy: 0.6187 - val_loss: 1.6574 - val_accuracy: 0.7123\n",
            "Epoch 8/50\n",
            "248/248 [==============================] - 4s 15ms/step - loss: 1.3430 - accuracy: 0.6826 - val_loss: 1.5889 - val_accuracy: 0.7397\n",
            "Epoch 9/50\n",
            "248/248 [==============================] - 4s 16ms/step - loss: 1.2423 - accuracy: 0.6801 - val_loss: 1.5130 - val_accuracy: 0.7489\n",
            "Epoch 10/50\n",
            "248/248 [==============================] - 4s 15ms/step - loss: 1.1596 - accuracy: 0.6963 - val_loss: 1.5213 - val_accuracy: 0.7489\n",
            "Epoch 11/50\n",
            "248/248 [==============================] - 4s 15ms/step - loss: 1.0557 - accuracy: 0.7391 - val_loss: 1.4810 - val_accuracy: 0.7671\n",
            "Epoch 12/50\n",
            "248/248 [==============================] - 4s 15ms/step - loss: 0.9930 - accuracy: 0.7496 - val_loss: 1.5555 - val_accuracy: 0.7717\n",
            "Epoch 13/50\n",
            "248/248 [==============================] - 4s 15ms/step - loss: 0.9239 - accuracy: 0.7609 - val_loss: 1.4946 - val_accuracy: 0.7945\n",
            "Epoch 14/50\n",
            "248/248 [==============================] - 4s 16ms/step - loss: 0.8869 - accuracy: 0.7690 - val_loss: 1.4977 - val_accuracy: 0.7945\n",
            "Epoch 15/50\n",
            "248/248 [==============================] - 4s 15ms/step - loss: 0.8599 - accuracy: 0.7690 - val_loss: 1.5769 - val_accuracy: 0.7900\n",
            "Epoch 16/50\n",
            "248/248 [==============================] - 4s 15ms/step - loss: 0.8740 - accuracy: 0.7763 - val_loss: 1.5512 - val_accuracy: 0.7854\n",
            "Epoch 17/50\n",
            "248/248 [==============================] - 4s 15ms/step - loss: 0.7740 - accuracy: 0.7981 - val_loss: 1.5079 - val_accuracy: 0.8082\n",
            "Epoch 18/50\n",
            "248/248 [==============================] - 4s 16ms/step - loss: 0.7222 - accuracy: 0.8021 - val_loss: 1.5640 - val_accuracy: 0.8219\n",
            "Epoch 19/50\n",
            "248/248 [==============================] - 4s 15ms/step - loss: 0.6569 - accuracy: 0.8360 - val_loss: 1.5429 - val_accuracy: 0.8128\n",
            "Epoch 20/50\n",
            "248/248 [==============================] - 4s 15ms/step - loss: 0.7249 - accuracy: 0.8102 - val_loss: 1.6356 - val_accuracy: 0.7945\n",
            "Epoch 21/50\n",
            "248/248 [==============================] - 4s 15ms/step - loss: 0.6157 - accuracy: 0.8368 - val_loss: 1.6344 - val_accuracy: 0.8037\n",
            "Epoch 22/50\n",
            "248/248 [==============================] - 4s 15ms/step - loss: 0.6270 - accuracy: 0.8320 - val_loss: 1.6477 - val_accuracy: 0.8082\n",
            "Epoch 23/50\n",
            "248/248 [==============================] - 4s 15ms/step - loss: 0.5935 - accuracy: 0.8352 - val_loss: 1.7409 - val_accuracy: 0.8037\n",
            "Epoch 24/50\n",
            "248/248 [==============================] - 4s 15ms/step - loss: 0.5772 - accuracy: 0.8384 - val_loss: 1.6854 - val_accuracy: 0.8037\n",
            "Epoch 25/50\n",
            "248/248 [==============================] - 4s 15ms/step - loss: 0.5603 - accuracy: 0.8514 - val_loss: 1.7378 - val_accuracy: 0.8128\n",
            "Epoch 26/50\n",
            "248/248 [==============================] - 4s 15ms/step - loss: 0.5610 - accuracy: 0.8465 - val_loss: 1.8874 - val_accuracy: 0.8037\n",
            "Epoch 27/50\n",
            "248/248 [==============================] - 4s 15ms/step - loss: 0.5421 - accuracy: 0.8481 - val_loss: 1.8045 - val_accuracy: 0.8082\n",
            "Epoch 28/50\n",
            "248/248 [==============================] - 4s 15ms/step - loss: 0.5056 - accuracy: 0.8546 - val_loss: 1.8165 - val_accuracy: 0.8174\n",
            "Epoch 29/50\n",
            "248/248 [==============================] - 4s 15ms/step - loss: 0.4988 - accuracy: 0.8546 - val_loss: 1.8999 - val_accuracy: 0.8174\n",
            "Epoch 30/50\n",
            "248/248 [==============================] - 4s 15ms/step - loss: 0.4824 - accuracy: 0.8667 - val_loss: 1.9372 - val_accuracy: 0.8356\n",
            "Epoch 31/50\n",
            "248/248 [==============================] - 4s 15ms/step - loss: 0.4063 - accuracy: 0.8861 - val_loss: 1.9697 - val_accuracy: 0.8174\n",
            "Epoch 32/50\n",
            "248/248 [==============================] - 4s 15ms/step - loss: 0.4004 - accuracy: 0.8829 - val_loss: 1.9006 - val_accuracy: 0.8219\n",
            "Epoch 33/50\n",
            "248/248 [==============================] - 4s 15ms/step - loss: 0.4060 - accuracy: 0.8893 - val_loss: 2.0908 - val_accuracy: 0.8174\n",
            "Epoch 34/50\n",
            "248/248 [==============================] - 4s 15ms/step - loss: 0.4386 - accuracy: 0.8691 - val_loss: 1.9300 - val_accuracy: 0.8311\n",
            "Epoch 35/50\n",
            "248/248 [==============================] - 4s 15ms/step - loss: 0.3923 - accuracy: 0.8910 - val_loss: 2.1048 - val_accuracy: 0.8356\n",
            "Epoch 36/50\n",
            "248/248 [==============================] - 4s 15ms/step - loss: 0.3783 - accuracy: 0.8942 - val_loss: 2.1934 - val_accuracy: 0.8219\n",
            "Epoch 37/50\n",
            "248/248 [==============================] - 4s 15ms/step - loss: 0.3783 - accuracy: 0.8982 - val_loss: 2.3205 - val_accuracy: 0.8265\n",
            "Epoch 38/50\n",
            "248/248 [==============================] - 4s 15ms/step - loss: 0.4200 - accuracy: 0.8780 - val_loss: 2.1337 - val_accuracy: 0.8219\n",
            "Epoch 39/50\n",
            "248/248 [==============================] - 4s 15ms/step - loss: 0.3413 - accuracy: 0.8958 - val_loss: 2.3143 - val_accuracy: 0.8219\n",
            "Epoch 40/50\n",
            "248/248 [==============================] - 4s 15ms/step - loss: 0.3384 - accuracy: 0.8982 - val_loss: 2.2495 - val_accuracy: 0.8219\n",
            "Epoch 41/50\n",
            "248/248 [==============================] - 4s 15ms/step - loss: 0.3190 - accuracy: 0.9006 - val_loss: 2.3022 - val_accuracy: 0.8311\n",
            "Epoch 42/50\n",
            "248/248 [==============================] - 4s 15ms/step - loss: 0.3211 - accuracy: 0.9063 - val_loss: 2.2265 - val_accuracy: 0.8356\n",
            "Epoch 43/50\n",
            "248/248 [==============================] - 4s 15ms/step - loss: 0.3456 - accuracy: 0.8918 - val_loss: 2.3110 - val_accuracy: 0.8219\n",
            "Epoch 44/50\n",
            "248/248 [==============================] - 4s 15ms/step - loss: 0.3487 - accuracy: 0.8982 - val_loss: 2.3686 - val_accuracy: 0.8174\n",
            "Epoch 45/50\n",
            "248/248 [==============================] - 4s 15ms/step - loss: 0.3838 - accuracy: 0.8877 - val_loss: 2.4514 - val_accuracy: 0.8219\n",
            "Epoch 46/50\n",
            "248/248 [==============================] - 4s 15ms/step - loss: 0.3300 - accuracy: 0.8934 - val_loss: 2.5198 - val_accuracy: 0.8174\n",
            "Epoch 47/50\n",
            "248/248 [==============================] - 4s 15ms/step - loss: 0.3200 - accuracy: 0.8950 - val_loss: 2.6089 - val_accuracy: 0.8265\n",
            "Epoch 48/50\n",
            "248/248 [==============================] - 4s 16ms/step - loss: 0.3048 - accuracy: 0.9063 - val_loss: 2.5324 - val_accuracy: 0.8311\n",
            "Epoch 49/50\n",
            "248/248 [==============================] - 4s 15ms/step - loss: 0.3089 - accuracy: 0.9039 - val_loss: 2.4307 - val_accuracy: 0.8311\n",
            "Epoch 50/50\n",
            "248/248 [==============================] - 4s 16ms/step - loss: 0.2794 - accuracy: 0.9216 - val_loss: 2.6048 - val_accuracy: 0.8356\n"
          ]
        }
      ]
    },
    {
      "metadata": {
        "trusted": true,
        "id": "1dnHj1cnR9o5",
        "colab": {
          "base_uri": "https://localhost:8080/",
          "height": 590
        },
        "outputId": "fcab17fe-25be-41d4-9ac2-f15d05f6220e"
      },
      "cell_type": "code",
      "source": [
        "import matplotlib.pyplot as plt\n",
        "plt.plot(m.history['accuracy'])\n",
        "plt.plot(m.history['val_accuracy'])\n",
        "plt.title('model accuracy')\n",
        "plt.ylabel('accuracy')\n",
        "plt.xlabel('epoch')\n",
        "plt.legend(['train', 'test'], loc='upper left')\n",
        "plt.show()\n",
        "\n",
        "plt.plot(m.history['loss'])\n",
        "plt.plot(m.history['val_loss'])\n",
        "plt.title('model loss')\n",
        "plt.ylabel('loss')\n",
        "plt.xlabel('epoch')\n",
        "plt.legend(['train', 'test'], loc='upper left')"
      ],
      "execution_count": 44,
      "outputs": [
        {
          "output_type": "display_data",
          "data": {
            "image/png": "[encoded data removed]",
            "text/plain": [
              "<Figure size 432x288 with 1 Axes>"
            ]
          },
          "metadata": {
            "needs_background": "light"
          }
        },
        {
          "output_type": "execute_result",
          "data": {
            "text/plain": [
              "<matplotlib.legend.Legend at 0x7ff6e4266b90>"
            ]
          },
          "metadata": {},
          "execution_count": 44
        },
        {
          "output_type": "display_data",
          "data": {
            "image/png": "[encoded data removed]",
            "text/plain": [
              "<Figure size 432x288 with 1 Axes>"
            ]
          },
          "metadata": {
            "needs_background": "light"
          }
        }
      ]
    }
  ],
  "metadata": {
    "kernelspec": {
      "name": "python3",
      "display_name": "Python 3",
      "language": "python"
    },
    "language_info": {
      "name": "python",
      "version": "3.7.6",
      "mimetype": "text/x-python",
      "codemirror_mode": {
        "name": "ipython",
        "version": 3
      },
      "pygments_lexer": "ipython3",
      "nbconvert_exporter": "python",
      "file_extension": ".py"
    },
    "colab": {
      "name": "Copy of intents_2 using LSTM.ipynb",
      "provenance": []
    },
    "accelerator": "GPU"
  },
  "nbformat": 4,
  "nbformat_minor": 0
}