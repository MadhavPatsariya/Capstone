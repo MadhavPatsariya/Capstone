{
  "cells": [
    {
      "cell_type": "code",
      "execution_count": 1,
      "metadata": {
        "colab": {
          "base_uri": "https://localhost:8080/"
        },
        "id": "4732o2riFPRv",
        "outputId": "87f0d817-9974-44ee-fd12-b67fb97c8779"
      },
      "outputs": [
        {
          "output_type": "stream",
          "name": "stdout",
          "text": [
            "Requirement already satisfied: tensorflow in /usr/local/lib/python3.7/dist-packages (2.8.0)\n",
            "Requirement already satisfied: astunparse>=1.6.0 in /usr/local/lib/python3.7/dist-packages (from tensorflow) (1.6.3)\n",
            "Requirement already satisfied: h5py>=2.9.0 in /usr/local/lib/python3.7/dist-packages (from tensorflow) (3.1.0)\n",
            "Requirement already satisfied: six>=1.12.0 in /usr/local/lib/python3.7/dist-packages (from tensorflow) (1.15.0)\n",
            "Requirement already satisfied: termcolor>=1.1.0 in /usr/local/lib/python3.7/dist-packages (from tensorflow) (1.1.0)\n",
            "Requirement already satisfied: keras-preprocessing>=1.1.1 in /usr/local/lib/python3.7/dist-packages (from tensorflow) (1.1.2)\n",
            "Requirement already satisfied: wrapt>=1.11.0 in /usr/local/lib/python3.7/dist-packages (from tensorflow) (1.13.3)\n",
            "Requirement already satisfied: absl-py>=0.4.0 in /usr/local/lib/python3.7/dist-packages (from tensorflow) (1.0.0)\n",
            "Requirement already satisfied: tensorboard<2.9,>=2.8 in /usr/local/lib/python3.7/dist-packages (from tensorflow) (2.8.0)\n",
            "Requirement already satisfied: typing-extensions>=3.6.6 in /usr/local/lib/python3.7/dist-packages (from tensorflow) (3.10.0.2)\n",
            "Requirement already satisfied: grpcio<2.0,>=1.24.3 in /usr/local/lib/python3.7/dist-packages (from tensorflow) (1.44.0)\n",
            "Requirement already satisfied: opt-einsum>=2.3.2 in /usr/local/lib/python3.7/dist-packages (from tensorflow) (3.3.0)\n",
            "Requirement already satisfied: setuptools in /usr/local/lib/python3.7/dist-packages (from tensorflow) (57.4.0)\n",
            "Requirement already satisfied: numpy>=1.20 in /usr/local/lib/python3.7/dist-packages (from tensorflow) (1.21.5)\n",
            "Requirement already satisfied: flatbuffers>=1.12 in /usr/local/lib/python3.7/dist-packages (from tensorflow) (2.0)\n",
            "Collecting tf-estimator-nightly==2.8.0.dev2021122109\n",
            "  Downloading tf_estimator_nightly-2.8.0.dev2021122109-py2.py3-none-any.whl (462 kB)\n",
            "\u001b[K     |████████████████████████████████| 462 kB 5.0 MB/s \n",
            "\u001b[?25hRequirement already satisfied: protobuf>=3.9.2 in /usr/local/lib/python3.7/dist-packages (from tensorflow) (3.17.3)\n",
            "Requirement already satisfied: keras<2.9,>=2.8.0rc0 in /usr/local/lib/python3.7/dist-packages (from tensorflow) (2.8.0)\n",
            "Requirement already satisfied: tensorflow-io-gcs-filesystem>=0.23.1 in /usr/local/lib/python3.7/dist-packages (from tensorflow) (0.24.0)\n",
            "Requirement already satisfied: libclang>=9.0.1 in /usr/local/lib/python3.7/dist-packages (from tensorflow) (13.0.0)\n",
            "Requirement already satisfied: gast>=0.2.1 in /usr/local/lib/python3.7/dist-packages (from tensorflow) (0.5.3)\n",
            "Requirement already satisfied: google-pasta>=0.1.1 in /usr/local/lib/python3.7/dist-packages (from tensorflow) (0.2.0)\n",
            "Requirement already satisfied: wheel<1.0,>=0.23.0 in /usr/local/lib/python3.7/dist-packages (from astunparse>=1.6.0->tensorflow) (0.37.1)\n",
            "Requirement already satisfied: cached-property in /usr/local/lib/python3.7/dist-packages (from h5py>=2.9.0->tensorflow) (1.5.2)\n",
            "Requirement already satisfied: google-auth-oauthlib<0.5,>=0.4.1 in /usr/local/lib/python3.7/dist-packages (from tensorboard<2.9,>=2.8->tensorflow) (0.4.6)\n",
            "Requirement already satisfied: google-auth<3,>=1.6.3 in /usr/local/lib/python3.7/dist-packages (from tensorboard<2.9,>=2.8->tensorflow) (1.35.0)\n",
            "Requirement already satisfied: tensorboard-data-server<0.7.0,>=0.6.0 in /usr/local/lib/python3.7/dist-packages (from tensorboard<2.9,>=2.8->tensorflow) (0.6.1)\n",
            "Requirement already satisfied: markdown>=2.6.8 in /usr/local/lib/python3.7/dist-packages (from tensorboard<2.9,>=2.8->tensorflow) (3.3.6)\n",
            "Requirement already satisfied: werkzeug>=0.11.15 in /usr/local/lib/python3.7/dist-packages (from tensorboard<2.9,>=2.8->tensorflow) (1.0.1)\n",
            "Requirement already satisfied: tensorboard-plugin-wit>=1.6.0 in /usr/local/lib/python3.7/dist-packages (from tensorboard<2.9,>=2.8->tensorflow) (1.8.1)\n",
            "Requirement already satisfied: requests<3,>=2.21.0 in /usr/local/lib/python3.7/dist-packages (from tensorboard<2.9,>=2.8->tensorflow) (2.23.0)\n",
            "Requirement already satisfied: pyasn1-modules>=0.2.1 in /usr/local/lib/python3.7/dist-packages (from google-auth<3,>=1.6.3->tensorboard<2.9,>=2.8->tensorflow) (0.2.8)\n",
            "Requirement already satisfied: rsa<5,>=3.1.4 in /usr/local/lib/python3.7/dist-packages (from google-auth<3,>=1.6.3->tensorboard<2.9,>=2.8->tensorflow) (4.8)\n",
            "Requirement already satisfied: cachetools<5.0,>=2.0.0 in /usr/local/lib/python3.7/dist-packages (from google-auth<3,>=1.6.3->tensorboard<2.9,>=2.8->tensorflow) (4.2.4)\n",
            "Requirement already satisfied: requests-oauthlib>=0.7.0 in /usr/local/lib/python3.7/dist-packages (from google-auth-oauthlib<0.5,>=0.4.1->tensorboard<2.9,>=2.8->tensorflow) (1.3.1)\n",
            "Requirement already satisfied: importlib-metadata>=4.4 in /usr/local/lib/python3.7/dist-packages (from markdown>=2.6.8->tensorboard<2.9,>=2.8->tensorflow) (4.11.1)\n",
            "Requirement already satisfied: zipp>=0.5 in /usr/local/lib/python3.7/dist-packages (from importlib-metadata>=4.4->markdown>=2.6.8->tensorboard<2.9,>=2.8->tensorflow) (3.7.0)\n",
            "Requirement already satisfied: pyasn1<0.5.0,>=0.4.6 in /usr/local/lib/python3.7/dist-packages (from pyasn1-modules>=0.2.1->google-auth<3,>=1.6.3->tensorboard<2.9,>=2.8->tensorflow) (0.4.8)\n",
            "Requirement already satisfied: urllib3!=1.25.0,!=1.25.1,<1.26,>=1.21.1 in /usr/local/lib/python3.7/dist-packages (from requests<3,>=2.21.0->tensorboard<2.9,>=2.8->tensorflow) (1.24.3)\n",
            "Requirement already satisfied: certifi>=2017.4.17 in /usr/local/lib/python3.7/dist-packages (from requests<3,>=2.21.0->tensorboard<2.9,>=2.8->tensorflow) (2021.10.8)\n",
            "Requirement already satisfied: idna<3,>=2.5 in /usr/local/lib/python3.7/dist-packages (from requests<3,>=2.21.0->tensorboard<2.9,>=2.8->tensorflow) (2.10)\n",
            "Requirement already satisfied: chardet<4,>=3.0.2 in /usr/local/lib/python3.7/dist-packages (from requests<3,>=2.21.0->tensorboard<2.9,>=2.8->tensorflow) (3.0.4)\n",
            "Requirement already satisfied: oauthlib>=3.0.0 in /usr/local/lib/python3.7/dist-packages (from requests-oauthlib>=0.7.0->google-auth-oauthlib<0.5,>=0.4.1->tensorboard<2.9,>=2.8->tensorflow) (3.2.0)\n",
            "Installing collected packages: tf-estimator-nightly\n",
            "Successfully installed tf-estimator-nightly-2.8.0.dev2021122109\n"
          ]
        }
      ],
      "source": [
        "!pip install tensorflow "
      ]
    },
    {
      "cell_type": "code",
      "execution_count": 2,
      "metadata": {
        "id": "-Bp4Tfm7DSpE"
      },
      "outputs": [],
      "source": [
        "import nltk\n",
        "from nltk.stem import WordNetLemmatizer\n",
        "lemmatizer = WordNetLemmatizer()\n",
        "import json\n",
        "import pickle\n"
      ]
    },
    {
      "cell_type": "code",
      "execution_count": 3,
      "metadata": {
        "id": "hYTgkVnlDTCn"
      },
      "outputs": [],
      "source": [
        "import numpy as np\n",
        "import tensorflow as tf\n",
        "from keras.models import Sequential\n",
        "from keras.layers import Dense, Activation, Dropout\n",
        "from tensorflow.keras.optimizers import SGD\n",
        "import random"
      ]
    },
    {
      "cell_type": "code",
      "execution_count": 4,
      "metadata": {
        "colab": {
          "base_uri": "https://localhost:8080/"
        },
        "id": "bKwBoHHZDV1S",
        "outputId": "7d761c97-771d-43c3-f3d5-bcfb3e1b2182"
      },
      "outputs": [
        {
          "output_type": "stream",
          "name": "stdout",
          "text": [
            "[nltk_data] Downloading package punkt to /root/nltk_data...\n",
            "[nltk_data]   Unzipping tokenizers/punkt.zip.\n",
            "[nltk_data] Downloading package wordnet to /root/nltk_data...\n",
            "[nltk_data]   Unzipping corpora/wordnet.zip.\n"
          ]
        },
        {
          "output_type": "execute_result",
          "data": {
            "text/plain": [
              "True"
            ]
          },
          "metadata": {},
          "execution_count": 4
        }
      ],
      "source": [
        "import nltk\n",
        "nltk.download('punkt')\n",
        "import nltk\n",
        "nltk.download('wordnet')"
      ]
    },
    {
      "cell_type": "code",
      "execution_count": 5,
      "metadata": {
        "id": "fXTLiQUtEUmn"
      },
      "outputs": [],
      "source": [
        "words=[]\n",
        "classes = []\n",
        "documents = []\n",
        "ignore_words = ['?', '!']\n",
        "\n",
        "with open('intents_2.json') as json_data:\n",
        "    intents = json.load(json_data)\n"
      ]
    },
    {
      "cell_type": "code",
      "execution_count": 6,
      "metadata": {
        "id": "pNIqPDG2EaeI"
      },
      "outputs": [],
      "source": [
        "for intent in intents['intents']:\n",
        "    for pattern in intent['patterns']:\n",
        "\n",
        "        #tokenize each word\n",
        "        w = nltk.word_tokenize(pattern)\n",
        "        words.extend(w)\n",
        "        #add documents in the corpus\n",
        "        documents.append((w, intent['tag']))\n",
        "\n",
        "        # add to our classes list\n",
        "        if intent['tag'] not in classes:\n",
        "            classes.append(intent['tag'])"
      ]
    },
    {
      "cell_type": "code",
      "execution_count": 7,
      "metadata": {
        "id": "H0E_FOEPuWbX",
        "colab": {
          "base_uri": "https://localhost:8080/"
        },
        "outputId": "4ac7acde-9129-4244-8fe9-a4cf11c739b1"
      },
      "outputs": [
        {
          "output_type": "stream",
          "name": "stdout",
          "text": [
            "8350 246 810\n"
          ]
        }
      ],
      "source": [
        "print(len(words),len(classes),len(documents))"
      ]
    },
    {
      "cell_type": "code",
      "execution_count": 8,
      "metadata": {
        "id": "8mtXO970t8PT"
      },
      "outputs": [],
      "source": [
        "# import pandas as pd\n",
        "# data=pd.DataFrame({'docs':documents})\n",
        "# data.to_csv('docs.csv',index=False)"
      ]
    },
    {
      "cell_type": "code",
      "execution_count": 9,
      "metadata": {
        "colab": {
          "base_uri": "https://localhost:8080/"
        },
        "id": "RNUzVOFeEdOW",
        "outputId": "0a93851d-825b-4e6b-8b32-f6c0666794a6"
      },
      "outputs": [
        {
          "output_type": "stream",
          "name": "stdout",
          "text": [
            "810 documents\n",
            "246 classes [['greetings'], ['bye'], ['creator'], ['age'], ['functions'], ['Cuts'], ['Abrasions'], ['stings'], ['Splinter'], 'Sprains', ['Strains'], ['Fever'], ['Nasal Congestion'], ['Cough'], ['Sore Throat'], ['Gastrointestinal problems'], ['Skin problems'], ['Abdonominal Pain'], ['Bruises'], 'Broken Toe', ['Choking'], 'Wound', ['Diarrhea'], ['Frost bite'], ['Heat Exhaustion'], ['Heat Stroke'], ['Insect Bites'], ['nose bleed'], 'Pulled Muscle', ['Rectal bleeding'], ['Sun Burn'], ['Testicle Pain'], ['Vertigo'], ['Normal Bleeding'], ['Eye Injury'], ['Chemical Burn'], ['Poison'], ['Teeth'], 'seizure', ['Head Injury'], ['Fainting'], 'Headache', ['Cold'], ['Rash'], 'snake bite', ['animal bite'], ['Drowning'], ['CPR'], ['Fracture'], ['disease1'], ['disease2'], ['disease3'], ['disease4'], ['disease5'], ['disease6'], ['disease7'], ['disease8'], ['disease9'], ['disease10'], ['disease11'], ['disease12'], ['disease13'], ['disease14'], ['disease15'], ['disease16'], ['disease17'], ['disease18'], ['disease19'], ['disease20'], ['disease21'], ['disease22'], ['disease23'], ['disease24'], ['disease25'], ['disease26'], ['disease27'], ['disease28'], ['disease29'], ['disease30'], ['disease31'], ['disease32'], ['disease33'], ['disease34'], ['disease35'], ['disease36'], ['disease37'], ['disease38'], ['disease39'], ['disease40'], ['disease41'], ['disease42'], ['disease43'], ['disease44'], ['disease45'], ['disease46'], ['disease47'], ['disease48'], ['disease49'], ['disease50'], ['disease51'], ['disease52'], ['disease53'], ['disease54'], ['disease55'], ['disease56'], ['disease57'], ['disease58'], ['disease59'], ['disease60'], ['disease61'], ['disease62'], ['disease63'], ['disease64'], ['disease65'], ['disease66'], ['disease67'], ['disease68'], ['disease69'], ['disease70'], ['disease71'], ['disease72'], ['disease73'], ['disease74'], ['disease75'], ['disease76'], ['disease77'], ['disease78'], ['disease79'], ['disease80'], ['disease81'], ['disease82'], ['disease83'], ['disease84'], ['disease85'], ['disease86'], ['disease87'], ['incubation_corona'], ['corona'], ['symptoms_corona'], ['vaccine'], ['treatment_corona'], ['protect'], ['worker_risk'], ['WHO'], ['risk_corona'], ['test_doctor'], ['covid_SARS'], ['SARS'], ['transmission_corona'], ['infectious'], ['infection'], ['risk'], ['risk_transmission'], ['risk_pregnant'], ['test_covid'], ['test'], ['allergy_covid'], ['allergy_symptoms'], ['avoid_infecting'], ['distancing'], ['mask_covid'], ['covid_influenza'], ['europe_covid'], ['EU'], ['peak'], ['schools'], ['restriction'], ['travel'], ['food'], ['animal'], ['lung'], ['measure'], ['isolate'], ['safe'], ['covid'], ['fever'], ['mask'], ['smoke'], ['condition'], ['flu_vaccine'], ['vulnerable'], ['Europe'], ['faces'], ['catch'], ['worry'], ['antibiotic'], ['medicine'], ['incubation'], ['package'], ['not_do'], ['symptoms'], ['second'], ['virus'], ['illness'], ['again'], ['spread'], ['medical'], ['reduce_infection'], ['ibuprofen'], ['house'], ['medical_appointment'], ['home'], ['worker home'], ['work'], ['friends'], ['relatives'], ['park'], ['drive'], ['rules'], ['intercollegiate'], ['teaching'], ['pregnant'], ['baby'], ['appointment'], [' pregnant'], ['child'], ['birth'], ['testing'], ['labour'], ['corona_virus'], ['stigma'], ['rise'], ['weather'], ['community'], ['temperature'], ['mosquitoes'], ['contact'], ['donate'], ['child_covid'], ['child_mask'], ['family'], ['sick'], ['sanitizer'], ['risk corona'], ['prevent'], ['treatment'], ['transmitted'], ['animlas'], ['pets'], ['incubarion'], ['worry_covid'], ['use_of_mask'], ['animal_source'], ['pet'], ['government'], ['information']]\n",
            "880 unique lemmatized words ['(', ')', ',', '.', '14', '2019', ';', 'a', 'abdomen', 'abdominal', 'abdonominal', 'ability', 'able', 'about', 'abrasion', 'absence', 'accurate', 'ache', 'acial', 'activity', 'additional', 'adult', 'advice', 'affect', 'affected', 'after', 'again', 'against', 'age', 'agitation', 'air', 'allergy', 'allowed', 'along', 'also', 'am', 'an', 'anal', 'and', 'angular', 'animal', 'another', 'antenatal', 'antibiotic', 'anxiety', 'any', 'anyone', 'anything', 'appear', 'appearance', 'appetite', 'apply', 'appointment', 'are', 'area', 'arm', 'asked', 'at', 'attend', 'attention', 'au', 'available', 'avoid', 'baby', 'back', 'be', 'because', 'become', 'becoming', 'been', 'being', 'belching', 'belly', 'better', 'between', 'big', 'birth', 'bit', 'bite', 'bitten', 'blackhead', 'blame', 'bleed', 'bleeding', 'blister', 'blistering', 'bloating', 'blockage', 'blocked', 'blood', 'bloody', 'bluish', 'blurred', 'blurriness', 'blushing', 'body', 'bone', 'border', 'both', 'bowel', 'break', 'breast', 'breath', 'breathing', 'bring', 'broken', 'bruise', 'bump', 'burn', 'burning', 'by', 'ca', 'caesarean', 'called', 'can', 'cancer', 'care', 'case', 'catch', 'catching', 'caught', 'cause', 'cdc', 'centre', 'cervix', 'chain', 'change', 'chemical', 'chest', 'child', 'childbirth', 'chill', 'china', 'choice', 'choke', 'choked', 'choking', 'ciao', 'clarity', 'cleaning', 'clearing', 'close', 'closed', 'clot', 'cloudy', 'col', 'cold', 'color', 'colour', 'coma', 'come', 'community', 'comparable', 'completion', 'complication', 'concentrating', 'concentration', 'condition', 'confirmed', 'confusion', 'congestion', 'conjunctivitis', 'consciousness', 'consider', 'constipation', 'contact', 'contain', 'continuing', 'control', 'convulsion', 'corona', 'coronavirus', 'correctable', 'cough', 'could', 'country', 'covering', 'covid-19', 'covid19', 'cpr', 'cramp', 'cramping', 'craving', 'cream', 'create', 'creator', 'critical', 'crowded', 'cry', 'cure', 'cut', 'cyst', 'darkening', 'day', 'daytime', 'decision', 'decrease', 'decreased', 'dehydration', 'dentist', 'depression', 'detachment', 'detailed', 'deteriorating', 'deterioration', 'develop', 'developing', 'diagnose', 'diagnosed', 'diarrhea', 'die', 'different', 'differentiate', 'difficulty', 'discharge', 'discoloration', 'discolored', 'discomfort', 'disease', 'disorientation', 'dispose', 'disrupted', 'distancing', 'distention', 'distinguish', 'dizziness', 'do', 'doctor', 'doe', 'doesn', 'dog', 'doing', 'dome', 'donate', 'done', 'double', 'drip', 'drive', 'drooping', 'droopy', 'drowned', 'drowning', 'drowsiness', 'drug', 'dry', 'due', 'dull', 'during', 'e.g', 'ear', 'easily', 'effect', 'effective', 'elderly', 'elevated', 'energy', 'enough', 'erection', 'essential', 'etc', 'eu', 'eu/eea', 'europe', 'european', 'every', 'excessive', 'exhaled', 'exhausted', 'exhaustion', 'expansive', 'experience', 'eye', 'eyelid', 'f', 'face', 'facial', 'faint', 'fainting', 'family', 'fast', 'father', 'fatigue', 'fatigued', 'fda-approved', 'fear', 'feces', 'feel', 'feeling', 'fever', 'fever/pollen', 'filled', 'find', 'fissure', 'flare', 'flashing', 'fleshy', 'floater', 'flow', 'flu', 'fluid', 'flushing', 'food', 'foot', 'for', 'forehead', 'forgetfulness', 'fracture', 'frequent', 'friend', 'from', 'frost', 'frozen', 'fullness', 'fully', 'function', 'functionality', 'gain', 'garden', 'gas', 'gastrointestinal', 'general', 'germ', 'get', 'getting', 'give', 'gland', 'glass', 'go', 'good', 'goodbye', 'got', 'government', 'gp', 'green', 'greeting', 'groin', 'group', 'grows', 'growth', 'ha', 'had', 'hair', 'hall', 'hallucination', 'hand', 'handling', 'happen', 'happens', 'hard', 'hardening', 'hasta', 'have', 'having', 'hay', 'haziness', 'head', 'headache', 'health', 'heart', 'heartbeat', 'heat', 'heaviness', 'heavy', 'hello', 'help', 'hey', 'hi', 'high', 'higher', 'home', 'hopelessness', 'house', 'how', 'human', 'hunger', 'hyperventilation', 'i', 'ibuprofen', 'ice', 'if', 'illness', 'impact', 'imported', 'in', 'inability', 'including', 'increased', 'incubation', 'individual', 'induced', 'infected', 'infecting', 'infection', 'infectious', 'inflamed', 'inflammation', 'influenza', 'information', 'injured', 'injury', 'insect', 'insomnia', 'instrumental', 'intercollegiate', 'into', 'intolerance', 'irritability', 'irritabilityheadaches', 'irritable', 'is', 'isolate', 'it', 'itch', 'itching', 'itchy', 'jaundice', 'jaw', 'joint', 'kidney', 'kill', 'know', 'la', 'labored', 'labour', 'lack', 'last', 'le', 'leading', 'leave', 'leaving', 'leg', 'lethargy', 'level', 'light', 'lightheadedness', 'like', 'likely', 'limit', 'live', 'liver', 'logistics', 'long', 'look', 'loss', 'low', 'lower', 'lung', 'lymph', 'm', 'made', 'major', 'make', 'making', 'malaise', 'managed', 'many', 'mask', 'may', 'me', 'measure', 'median', 'medical', 'medicine', 'member', 'membrane', 'memory', 'menstrual', 'mental', 'might', 'mild', 'mode', 'moment', 'monekey', 'monkey', 'mood', 'more', 'mosquito', 'most', 'mouth', 'move', 'movement', 'mucous', 'muscle', 'my', 'myself', \"n't\", 'nail', 'nasal', 'national', 'nausea', 'near', 'neck', 'need', 'neighbour', 'neonate', 'nervousness', 'news', 'night', 'no', 'node', 'nose', 'nosebleed', 'nosesneezing', 'not', 'novel', 'obtain', 'occurs', 'odorless', 'of', 'off', 'often', 'okay', 'old', 'older', 'on', 'one', 'open', 'operating', 'opposed', 'or', 'organisation', 'orientation', 'other', 'others', 'our', 'out', 'outbreak', 'outside', 'ovary', 'own', 'package', 'packaged', 'pain', 'painful', 'painless', 'painstones', 'pale', 'palpitation', 'pandemic', 'paralysis', 'park', 'part', 'particularly', 'partner', 'pas', 'past', 'peak', 'pelvic', 'penile', 'penis', 'people', 'period', 'person', 'pet', 'physical', 'pimple', 'pink', 'pitched', 'plane', 'plaque', 'please', 'po', 'poison', 'poisoned', 'poisoning', 'pollen', 'population', 'positive', 'possible', 'postnasal', 'postnatal', 'potential', 'pounding', 'pre-existing', 'precaution', 'pregnancy', 'pregnant', 'prepare', 'prepared', 'present', 'pressure', 'pressured', 'prevent', 'preventing', 'problem', 'product', 'production', 'prolapse', 'protect', 'protected', 'protecting', 'protection', 'provide', 'provided', 'pu', 'pulled', 'put', 'quarrelsomeness', 'racing', 'raised', 'ranging', 'rapid', 'rash', 'rate', 'receive', 'recently', 'recommend', 'recommendation', 'recovered', 'rectal', 'red', 'reddish', 'redness', 'reduce', 'reducing', 'refer', 'refrigerated', 'regularly', 'related', 'relative', 'remove', 'reported', 'residence', 'respiratory', 'responsiveness', 'restaurant', 'restlessness', 'restriction', 'retail', 'revior', 'rib', 'rid', 'right', 'rinary', 'ringing', 'rise', 'risk', 'role', 'rule', 'runny', 'safe', 'saliva', 'salivary', 'same', 'sanitizer', 'sars', 'sars-cov-2', 'say', 'scaly', 'scar', 'school', 'scientific', 'scratchy', 'seasonal', 'second', 'see', 'seeing', 'seizure', 'self', 'self-isolate', 'self-isolating', 'self-isolation', 'sensation', 'sensitivity', 'serious', 'service', 'setting', 'sever', 'severe', 'sex', 'shallow', 'shape', 'shaped', 'shiny', 'shipping', 'short', 'shortness', 'should', 'show', 'sick', 'sided', 'sign', 'simple', 'sinus', 'situation', 'skin', 'skinfatigue', 'sleep', 'sleepiness', 'slow', 'small', 'smoke', 'snake', 'sneezing', 'soap', 'social', 'some', 'somebody', 'someone', 'sore', 'source', 'space', 'speech', 'splinter', 'spot', 'sprain', 'spread', 'spreading', 'stabbing', 'standpoint', 'stay', 'step', 'stiff', 'stiffness', 'stigma', 'sting', 'stinging', 'stomach', 'stomachache', 'stone', 'stop', 'store', 'strain', 'stroke', 'student', 'sudden', 'suffer', 'suffering', 'sugar', 'sun', 'supply', 'surface', 'survive', 'suspected', 'swallowing', 'sweat', 'sweating', 'swell', 'swelling', 'swollen', 'symptom', 'symptomsinadequacy', 't', 'take', 'taken', 'teaching', 'teeth', 'tell', 'temperature', 'tenderness', 'test', 'tested', 'testicle', 'texture', 'than', 'thanks', 'that', 'the', 'theatre', 'their', 'therapy', 'there', 'these', 'they', 'thick', 'thickening', 'thirst', 'this', 'those', 'thought', 'throat', 'through', 'tightness', 'time', 'tingling', 'tiny', 'tired', 'tiredness', 'tissue', 'to', 'toe', 'tone', 'tonsil', 'tract', 'tractu', 'transmission', 'transmitted', 'travel', 'travelling', 'treat', 'treating', 'treatment', 'tremor', 'trick', 'trouble', 'type', 'typical', 'typically', 'ulcer', 'underweight', 'unexplained', 'uninflamed', 'union', 'unwell', 'up', 'up-to-date', 'updated', 'upper', 'upset', 'urethra', 'urgently', 'urinary', 'urinate', 'urinating', 'urination', 'urine', 'us', 'use', 'using', 'uterus', 'vaccine', 'vaginal', 'vertigo', 'very', 'violet', 'virus', 'viruse', 'vision', 'visit', 'visited', 'vista', 'vomiting', 'vulnerable', 'waking', 'walk', 'warm', 'water', 'watery', 'way', 'we', 'weakened', 'weakness', 'wear', 'weather', 'weight', 'welt', 'what', 'whats', 'wheezing', 'when', 'where', 'which', 'white', 'who', 'why', 'will', 'window', 'with', 'withdrawal', 'without', 'woman', 'womb', 'work', 'worker', 'working', 'worried', 'worry', 'worsen', 'worst', 'would', 'wound', 'wounded', 'year', 'yellow', 'you', 'your', 'yourself', '–', '‘', '’']\n"
          ]
        }
      ],
      "source": [
        "words = [lemmatizer.lemmatize(w.lower()) for w in words if w not in ignore_words]\n",
        "words = sorted(list(set(words)))\n",
        "# sort classes\n",
        "# classes = sorted(list(set(classes)))\n",
        "# documents = combination between patterns and intents\n",
        "print (len(documents), \"documents\")\n",
        "# classes = intents\n",
        "print (len(classes), \"classes\", classes)\n",
        "# words = all words, vocabulary\n",
        "print (len(words), \"unique lemmatized words\", words)\n",
        "\n",
        "\n",
        "pickle.dump(words,open('words.pkl','wb'))\n",
        "pickle.dump(classes,open('classes.pkl','wb'))"
      ]
    },
    {
      "cell_type": "code",
      "execution_count": 10,
      "metadata": {
        "colab": {
          "base_uri": "https://localhost:8080/"
        },
        "id": "UfJ3VS19EwPv",
        "outputId": "b577d241-68da-4ac9-985a-b4d3460f7596"
      },
      "outputs": [
        {
          "output_type": "stream",
          "name": "stdout",
          "text": [
            "Training data created\n"
          ]
        },
        {
          "output_type": "stream",
          "name": "stderr",
          "text": [
            "/usr/local/lib/python3.7/dist-packages/ipykernel_launcher.py:25: VisibleDeprecationWarning: Creating an ndarray from ragged nested sequences (which is a list-or-tuple of lists-or-tuples-or ndarrays with different lengths or shapes) is deprecated. If you meant to do this, you must specify 'dtype=object' when creating the ndarray.\n"
          ]
        }
      ],
      "source": [
        "\n",
        "# create our training data\n",
        "training = []\n",
        "# create an empty array for our output\n",
        "output_empty = [0] * len(classes)\n",
        "# training set, bag of words for each sentence\n",
        "for doc in documents:\n",
        "    # initialize our bag of words\n",
        "    bag = []\n",
        "    # list of tokenized words for the pattern\n",
        "    pattern_words = doc[0]\n",
        "    # lemmatize each word - create base word, in attempt to represent related words\n",
        "    pattern_words = [lemmatizer.lemmatize(word.lower()) for word in pattern_words]\n",
        "    # create our bag of words array with 1, if word match found in current pattern\n",
        "    for w in words:\n",
        "        bag.append(1) if w in pattern_words else bag.append(0)\n",
        "    \n",
        "    # output is a '0' for each tag and '1' for current tag (for each pattern)\n",
        "    output_row = list(output_empty)\n",
        "    output_row[classes.index(doc[1])] = 1\n",
        "    \n",
        "    training.append([bag, output_row])\n",
        "# shuffle our features and turn into np.array\n",
        "random.shuffle(training)\n",
        "training = np.array(training)\n",
        "# create train and test lists. X - patterns, Y - intents\n",
        "train_x = list(training[:,0])\n",
        "train_y = list(training[:,1])\n",
        "print(\"Training data created\")\n"
      ]
    },
    {
      "cell_type": "code",
      "source": [
        "from sklearn.model_selection import train_test_split\n",
        "X_train, X_test, Y_train, Y_test = train_test_split(np.array(train_x), np.array(train_y), test_size=0.15)"
      ],
      "metadata": {
        "id": "ZaroVwR_ebP0"
      },
      "execution_count": 11,
      "outputs": []
    },
    {
      "cell_type": "code",
      "execution_count": 20,
      "metadata": {
        "colab": {
          "base_uri": "https://localhost:8080/"
        },
        "id": "B2tEugV3FIRw",
        "outputId": "e1a1e877-e8d9-4a73-caab-826f18a74c23"
      },
      "outputs": [
        {
          "output_type": "stream",
          "name": "stdout",
          "text": [
            "Model: \"sequential_1\"\n",
            "_________________________________________________________________\n",
            " Layer (type)                Output Shape              Param #   \n",
            "=================================================================\n",
            " dense_4 (Dense)             (None, 256)               225536    \n",
            "                                                                 \n",
            " dropout_3 (Dropout)         (None, 256)               0         \n",
            "                                                                 \n",
            " dense_5 (Dense)             (None, 128)               32896     \n",
            "                                                                 \n",
            " dropout_4 (Dropout)         (None, 128)               0         \n",
            "                                                                 \n",
            " dense_6 (Dense)             (None, 32)                4128      \n",
            "                                                                 \n",
            " dropout_5 (Dropout)         (None, 32)                0         \n",
            "                                                                 \n",
            " dense_7 (Dense)             (None, 246)               8118      \n",
            "                                                                 \n",
            "=================================================================\n",
            "Total params: 270,678\n",
            "Trainable params: 270,678\n",
            "Non-trainable params: 0\n",
            "_________________________________________________________________\n"
          ]
        },
        {
          "output_type": "stream",
          "name": "stderr",
          "text": [
            "/usr/local/lib/python3.7/dist-packages/keras/optimizer_v2/gradient_descent.py:102: UserWarning: The `lr` argument is deprecated, use `learning_rate` instead.\n",
            "  super(SGD, self).__init__(name, **kwargs)\n"
          ]
        }
      ],
      "source": [
        "# Create model - 3 layers. First layer 128 neurons, second layer 64 neurons and 3rd output layer contains number of neurons\n",
        "# equal to number of intents to predict output intent with softmax\n",
        "model = Sequential()\n",
        "model.add(Dense(256, input_shape=(len(X_train[0]),), activation='relu'))\n",
        "model.add(Dropout(0.3))\n",
        "model.add(Dense(128, activation='relu'))\n",
        "model.add(Dropout(0.3))\n",
        "model.add(Dense(32, activation='relu'))\n",
        "model.add(Dropout(0.3))\n",
        "model.add(Dense(len(Y_train[0]), activation='softmax'))\n",
        "\n",
        "model.summary()\n",
        "# Compile model. Stochastic gradient descent with Nesterov accelerated gradient gives good results for this model\n",
        "sgd = SGD(lr=0.01, decay=1e-4, momentum=0.8, nesterov=True)\n"
      ]
    },
    {
      "cell_type": "code",
      "execution_count": 21,
      "metadata": {
        "id": "tibq3PcwC3hm"
      },
      "outputs": [],
      "source": [
        "####epochs\n",
        "no_epochs=200\n",
        "model.compile(loss='categorical_crossentropy', optimizer=sgd, metrics=['accuracy'])"
      ]
    },
    {
      "cell_type": "code",
      "source": [
        "from keras.callbacks import History\n",
        "history = History()\n",
        "m = model.fit(X_train, Y_train, validation_data = (X_test, Y_test),\n",
        "                   epochs = 100, batch_size = 5, callbacks = [history])   "
      ],
      "metadata": {
        "colab": {
          "base_uri": "https://localhost:8080/"
        },
        "id": "8KMgvNdWeonA",
        "outputId": "8c155353-2945-485c-963b-f3b05be07c1e"
      },
      "execution_count": 22,
      "outputs": [
        {
          "output_type": "stream",
          "name": "stdout",
          "text": [
            "Epoch 1/100\n",
            "138/138 [==============================] - 1s 5ms/step - loss: 5.5001 - accuracy: 0.0145 - val_loss: 5.4882 - val_accuracy: 0.0328\n",
            "Epoch 2/100\n",
            "138/138 [==============================] - 0s 4ms/step - loss: 5.4652 - accuracy: 0.0305 - val_loss: 5.4660 - val_accuracy: 0.0328\n",
            "Epoch 3/100\n",
            "138/138 [==============================] - 1s 4ms/step - loss: 5.4155 - accuracy: 0.0291 - val_loss: 5.4380 - val_accuracy: 0.0328\n",
            "Epoch 4/100\n",
            "138/138 [==============================] - 1s 4ms/step - loss: 5.3538 - accuracy: 0.0392 - val_loss: 5.4020 - val_accuracy: 0.0164\n",
            "Epoch 5/100\n",
            "138/138 [==============================] - 1s 4ms/step - loss: 5.2427 - accuracy: 0.0392 - val_loss: 5.3594 - val_accuracy: 0.0164\n",
            "Epoch 6/100\n",
            "138/138 [==============================] - 0s 3ms/step - loss: 5.0743 - accuracy: 0.0523 - val_loss: 5.2767 - val_accuracy: 0.0492\n",
            "Epoch 7/100\n",
            "138/138 [==============================] - 0s 4ms/step - loss: 4.8731 - accuracy: 0.0741 - val_loss: 5.1694 - val_accuracy: 0.0246\n",
            "Epoch 8/100\n",
            "138/138 [==============================] - 1s 4ms/step - loss: 4.6608 - accuracy: 0.1032 - val_loss: 5.0015 - val_accuracy: 0.0410\n",
            "Epoch 9/100\n",
            "138/138 [==============================] - 0s 4ms/step - loss: 4.4367 - accuracy: 0.1279 - val_loss: 4.7711 - val_accuracy: 0.0738\n",
            "Epoch 10/100\n",
            "138/138 [==============================] - 0s 4ms/step - loss: 4.1961 - accuracy: 0.1512 - val_loss: 4.4957 - val_accuracy: 0.1148\n",
            "Epoch 11/100\n",
            "138/138 [==============================] - 1s 4ms/step - loss: 3.8822 - accuracy: 0.2078 - val_loss: 4.2324 - val_accuracy: 0.1803\n",
            "Epoch 12/100\n",
            "138/138 [==============================] - 0s 3ms/step - loss: 3.6762 - accuracy: 0.2006 - val_loss: 3.9555 - val_accuracy: 0.2705\n",
            "Epoch 13/100\n",
            "138/138 [==============================] - 1s 4ms/step - loss: 3.5049 - accuracy: 0.2515 - val_loss: 3.7320 - val_accuracy: 0.3033\n",
            "Epoch 14/100\n",
            "138/138 [==============================] - 0s 4ms/step - loss: 3.3022 - accuracy: 0.2660 - val_loss: 3.4911 - val_accuracy: 0.3525\n",
            "Epoch 15/100\n",
            "138/138 [==============================] - 0s 3ms/step - loss: 3.0286 - accuracy: 0.3183 - val_loss: 3.3337 - val_accuracy: 0.3607\n",
            "Epoch 16/100\n",
            "138/138 [==============================] - 0s 3ms/step - loss: 2.9384 - accuracy: 0.3241 - val_loss: 3.1950 - val_accuracy: 0.4016\n",
            "Epoch 17/100\n",
            "138/138 [==============================] - 0s 4ms/step - loss: 2.8484 - accuracy: 0.3430 - val_loss: 3.0781 - val_accuracy: 0.3934\n",
            "Epoch 18/100\n",
            "138/138 [==============================] - 1s 4ms/step - loss: 2.7075 - accuracy: 0.3663 - val_loss: 3.0230 - val_accuracy: 0.4016\n",
            "Epoch 19/100\n",
            "138/138 [==============================] - 0s 4ms/step - loss: 2.5827 - accuracy: 0.3823 - val_loss: 2.8513 - val_accuracy: 0.4836\n",
            "Epoch 20/100\n",
            "138/138 [==============================] - 1s 4ms/step - loss: 2.4644 - accuracy: 0.4055 - val_loss: 2.8133 - val_accuracy: 0.4590\n",
            "Epoch 21/100\n",
            "138/138 [==============================] - 0s 4ms/step - loss: 2.3971 - accuracy: 0.4041 - val_loss: 2.7537 - val_accuracy: 0.5410\n",
            "Epoch 22/100\n",
            "138/138 [==============================] - 0s 3ms/step - loss: 2.2319 - accuracy: 0.4433 - val_loss: 2.6868 - val_accuracy: 0.5164\n",
            "Epoch 23/100\n",
            "138/138 [==============================] - 0s 3ms/step - loss: 2.1282 - accuracy: 0.4608 - val_loss: 2.5908 - val_accuracy: 0.5574\n",
            "Epoch 24/100\n",
            "138/138 [==============================] - 0s 3ms/step - loss: 2.1040 - accuracy: 0.4666 - val_loss: 2.6309 - val_accuracy: 0.5410\n",
            "Epoch 25/100\n",
            "138/138 [==============================] - 1s 4ms/step - loss: 1.9821 - accuracy: 0.5029 - val_loss: 2.5551 - val_accuracy: 0.5820\n",
            "Epoch 26/100\n",
            "138/138 [==============================] - 0s 3ms/step - loss: 1.8778 - accuracy: 0.5044 - val_loss: 2.4928 - val_accuracy: 0.5902\n",
            "Epoch 27/100\n",
            "138/138 [==============================] - 0s 4ms/step - loss: 1.8597 - accuracy: 0.5174 - val_loss: 2.5103 - val_accuracy: 0.6066\n",
            "Epoch 28/100\n",
            "138/138 [==============================] - 0s 4ms/step - loss: 1.8300 - accuracy: 0.5218 - val_loss: 2.5749 - val_accuracy: 0.5328\n",
            "Epoch 29/100\n",
            "138/138 [==============================] - 0s 3ms/step - loss: 1.6911 - accuracy: 0.5567 - val_loss: 2.4618 - val_accuracy: 0.6230\n",
            "Epoch 30/100\n",
            "138/138 [==============================] - 0s 4ms/step - loss: 1.6448 - accuracy: 0.5538 - val_loss: 2.4529 - val_accuracy: 0.6230\n",
            "Epoch 31/100\n",
            "138/138 [==============================] - 1s 4ms/step - loss: 1.5509 - accuracy: 0.5538 - val_loss: 2.4373 - val_accuracy: 0.6066\n",
            "Epoch 32/100\n",
            "138/138 [==============================] - 1s 4ms/step - loss: 1.5548 - accuracy: 0.5712 - val_loss: 2.4311 - val_accuracy: 0.6475\n",
            "Epoch 33/100\n",
            "138/138 [==============================] - 1s 4ms/step - loss: 1.5285 - accuracy: 0.5756 - val_loss: 2.3461 - val_accuracy: 0.6803\n",
            "Epoch 34/100\n",
            "138/138 [==============================] - 1s 4ms/step - loss: 1.4579 - accuracy: 0.5828 - val_loss: 2.4203 - val_accuracy: 0.6639\n",
            "Epoch 35/100\n",
            "138/138 [==============================] - 1s 4ms/step - loss: 1.4287 - accuracy: 0.6017 - val_loss: 2.3656 - val_accuracy: 0.6967\n",
            "Epoch 36/100\n",
            "138/138 [==============================] - 0s 3ms/step - loss: 1.3045 - accuracy: 0.6439 - val_loss: 2.4894 - val_accuracy: 0.6311\n",
            "Epoch 37/100\n",
            "138/138 [==============================] - 0s 4ms/step - loss: 1.3430 - accuracy: 0.6279 - val_loss: 2.4398 - val_accuracy: 0.6557\n",
            "Epoch 38/100\n",
            "138/138 [==============================] - 0s 3ms/step - loss: 1.2527 - accuracy: 0.6381 - val_loss: 2.5289 - val_accuracy: 0.6721\n",
            "Epoch 39/100\n",
            "138/138 [==============================] - 0s 3ms/step - loss: 1.2229 - accuracy: 0.6541 - val_loss: 2.5045 - val_accuracy: 0.6721\n",
            "Epoch 40/100\n",
            "138/138 [==============================] - 0s 3ms/step - loss: 1.1735 - accuracy: 0.6512 - val_loss: 2.4758 - val_accuracy: 0.6639\n",
            "Epoch 41/100\n",
            "138/138 [==============================] - 0s 3ms/step - loss: 1.1618 - accuracy: 0.6672 - val_loss: 2.4993 - val_accuracy: 0.6721\n",
            "Epoch 42/100\n",
            "138/138 [==============================] - 0s 3ms/step - loss: 1.1738 - accuracy: 0.6672 - val_loss: 2.5331 - val_accuracy: 0.6967\n",
            "Epoch 43/100\n",
            "138/138 [==============================] - 0s 3ms/step - loss: 1.1712 - accuracy: 0.6613 - val_loss: 2.4778 - val_accuracy: 0.6803\n",
            "Epoch 44/100\n",
            "138/138 [==============================] - 0s 3ms/step - loss: 1.1332 - accuracy: 0.6584 - val_loss: 2.5335 - val_accuracy: 0.6967\n",
            "Epoch 45/100\n",
            "138/138 [==============================] - 0s 4ms/step - loss: 1.0753 - accuracy: 0.6875 - val_loss: 2.5082 - val_accuracy: 0.6803\n",
            "Epoch 46/100\n",
            "138/138 [==============================] - 0s 3ms/step - loss: 1.0948 - accuracy: 0.6977 - val_loss: 2.5118 - val_accuracy: 0.6803\n",
            "Epoch 47/100\n",
            "138/138 [==============================] - 0s 3ms/step - loss: 1.0400 - accuracy: 0.6948 - val_loss: 2.5632 - val_accuracy: 0.6885\n",
            "Epoch 48/100\n",
            "138/138 [==============================] - 1s 4ms/step - loss: 1.0799 - accuracy: 0.7035 - val_loss: 2.5473 - val_accuracy: 0.6803\n",
            "Epoch 49/100\n",
            "138/138 [==============================] - 0s 3ms/step - loss: 0.9781 - accuracy: 0.6991 - val_loss: 2.5399 - val_accuracy: 0.7049\n",
            "Epoch 50/100\n",
            "138/138 [==============================] - 1s 4ms/step - loss: 0.9039 - accuracy: 0.7442 - val_loss: 2.5519 - val_accuracy: 0.7049\n",
            "Epoch 51/100\n",
            "138/138 [==============================] - 0s 3ms/step - loss: 0.9029 - accuracy: 0.7282 - val_loss: 2.5514 - val_accuracy: 0.7049\n",
            "Epoch 52/100\n",
            "138/138 [==============================] - 0s 3ms/step - loss: 0.8745 - accuracy: 0.7384 - val_loss: 2.5289 - val_accuracy: 0.7131\n",
            "Epoch 53/100\n",
            "138/138 [==============================] - 0s 3ms/step - loss: 0.9346 - accuracy: 0.7137 - val_loss: 2.5744 - val_accuracy: 0.7131\n",
            "Epoch 54/100\n",
            "138/138 [==============================] - 0s 4ms/step - loss: 0.8971 - accuracy: 0.7427 - val_loss: 2.6596 - val_accuracy: 0.7049\n",
            "Epoch 55/100\n",
            "138/138 [==============================] - 0s 3ms/step - loss: 0.9231 - accuracy: 0.7253 - val_loss: 2.6181 - val_accuracy: 0.7049\n",
            "Epoch 56/100\n",
            "138/138 [==============================] - 0s 3ms/step - loss: 0.8999 - accuracy: 0.7267 - val_loss: 2.5299 - val_accuracy: 0.7295\n",
            "Epoch 57/100\n",
            "138/138 [==============================] - 0s 4ms/step - loss: 0.8257 - accuracy: 0.7616 - val_loss: 2.6887 - val_accuracy: 0.7049\n",
            "Epoch 58/100\n",
            "138/138 [==============================] - 0s 4ms/step - loss: 0.8302 - accuracy: 0.7529 - val_loss: 2.6352 - val_accuracy: 0.7377\n",
            "Epoch 59/100\n",
            "138/138 [==============================] - 0s 3ms/step - loss: 0.8356 - accuracy: 0.7442 - val_loss: 2.6414 - val_accuracy: 0.6885\n",
            "Epoch 60/100\n",
            "138/138 [==============================] - 1s 4ms/step - loss: 0.8208 - accuracy: 0.7326 - val_loss: 2.6548 - val_accuracy: 0.6967\n",
            "Epoch 61/100\n",
            "138/138 [==============================] - 1s 4ms/step - loss: 0.7854 - accuracy: 0.7485 - val_loss: 2.7069 - val_accuracy: 0.7049\n",
            "Epoch 62/100\n",
            "138/138 [==============================] - 1s 4ms/step - loss: 0.8516 - accuracy: 0.7326 - val_loss: 2.6772 - val_accuracy: 0.7049\n",
            "Epoch 63/100\n",
            "138/138 [==============================] - 1s 4ms/step - loss: 0.6708 - accuracy: 0.8038 - val_loss: 2.6717 - val_accuracy: 0.7213\n",
            "Epoch 64/100\n",
            "138/138 [==============================] - 0s 3ms/step - loss: 0.7891 - accuracy: 0.7616 - val_loss: 2.7278 - val_accuracy: 0.7049\n",
            "Epoch 65/100\n",
            "138/138 [==============================] - 0s 3ms/step - loss: 0.7582 - accuracy: 0.7616 - val_loss: 2.7153 - val_accuracy: 0.7295\n",
            "Epoch 66/100\n",
            "138/138 [==============================] - 0s 3ms/step - loss: 0.7770 - accuracy: 0.7602 - val_loss: 2.6656 - val_accuracy: 0.7131\n",
            "Epoch 67/100\n",
            "138/138 [==============================] - 0s 4ms/step - loss: 0.7387 - accuracy: 0.7631 - val_loss: 2.7522 - val_accuracy: 0.7049\n",
            "Epoch 68/100\n",
            "138/138 [==============================] - 0s 3ms/step - loss: 0.6985 - accuracy: 0.8023 - val_loss: 2.7479 - val_accuracy: 0.7049\n",
            "Epoch 69/100\n",
            "138/138 [==============================] - 0s 4ms/step - loss: 0.7592 - accuracy: 0.7674 - val_loss: 2.7795 - val_accuracy: 0.7213\n",
            "Epoch 70/100\n",
            "138/138 [==============================] - 0s 4ms/step - loss: 0.6474 - accuracy: 0.7980 - val_loss: 2.7595 - val_accuracy: 0.7295\n",
            "Epoch 71/100\n",
            "138/138 [==============================] - 0s 4ms/step - loss: 0.7695 - accuracy: 0.7834 - val_loss: 2.6965 - val_accuracy: 0.7377\n",
            "Epoch 72/100\n",
            "138/138 [==============================] - 0s 3ms/step - loss: 0.6682 - accuracy: 0.8096 - val_loss: 2.7214 - val_accuracy: 0.7213\n",
            "Epoch 73/100\n",
            "138/138 [==============================] - 0s 3ms/step - loss: 0.6628 - accuracy: 0.7892 - val_loss: 2.7850 - val_accuracy: 0.7213\n",
            "Epoch 74/100\n",
            "138/138 [==============================] - 0s 4ms/step - loss: 0.7204 - accuracy: 0.7747 - val_loss: 2.7946 - val_accuracy: 0.7131\n",
            "Epoch 75/100\n",
            "138/138 [==============================] - 0s 4ms/step - loss: 0.6864 - accuracy: 0.7922 - val_loss: 2.7993 - val_accuracy: 0.7213\n",
            "Epoch 76/100\n",
            "138/138 [==============================] - 0s 3ms/step - loss: 0.7054 - accuracy: 0.7863 - val_loss: 2.7443 - val_accuracy: 0.7213\n",
            "Epoch 77/100\n",
            "138/138 [==============================] - 0s 4ms/step - loss: 0.7052 - accuracy: 0.7674 - val_loss: 2.8175 - val_accuracy: 0.7049\n",
            "Epoch 78/100\n",
            "138/138 [==============================] - 0s 3ms/step - loss: 0.7084 - accuracy: 0.7733 - val_loss: 2.8226 - val_accuracy: 0.7049\n",
            "Epoch 79/100\n",
            "138/138 [==============================] - 0s 4ms/step - loss: 0.5973 - accuracy: 0.8110 - val_loss: 2.8347 - val_accuracy: 0.7213\n",
            "Epoch 80/100\n",
            "138/138 [==============================] - 0s 4ms/step - loss: 0.6118 - accuracy: 0.8081 - val_loss: 2.8462 - val_accuracy: 0.7213\n",
            "Epoch 81/100\n",
            "138/138 [==============================] - 1s 4ms/step - loss: 0.5943 - accuracy: 0.8096 - val_loss: 2.9262 - val_accuracy: 0.7213\n",
            "Epoch 82/100\n",
            "138/138 [==============================] - 0s 3ms/step - loss: 0.5522 - accuracy: 0.8270 - val_loss: 2.9689 - val_accuracy: 0.7131\n",
            "Epoch 83/100\n",
            "138/138 [==============================] - 1s 4ms/step - loss: 0.6326 - accuracy: 0.8038 - val_loss: 2.8938 - val_accuracy: 0.7131\n",
            "Epoch 84/100\n",
            "138/138 [==============================] - 1s 4ms/step - loss: 0.6187 - accuracy: 0.7980 - val_loss: 2.9317 - val_accuracy: 0.7131\n",
            "Epoch 85/100\n",
            "138/138 [==============================] - 0s 4ms/step - loss: 0.6028 - accuracy: 0.8140 - val_loss: 2.8330 - val_accuracy: 0.7295\n",
            "Epoch 86/100\n",
            "138/138 [==============================] - 0s 3ms/step - loss: 0.5621 - accuracy: 0.8227 - val_loss: 2.8807 - val_accuracy: 0.7131\n",
            "Epoch 87/100\n",
            "138/138 [==============================] - 1s 4ms/step - loss: 0.5261 - accuracy: 0.8285 - val_loss: 2.9031 - val_accuracy: 0.7131\n",
            "Epoch 88/100\n",
            "138/138 [==============================] - 0s 3ms/step - loss: 0.4761 - accuracy: 0.8547 - val_loss: 2.9915 - val_accuracy: 0.6967\n",
            "Epoch 89/100\n",
            "138/138 [==============================] - 0s 4ms/step - loss: 0.5465 - accuracy: 0.8212 - val_loss: 2.9622 - val_accuracy: 0.7213\n",
            "Epoch 90/100\n",
            "138/138 [==============================] - 0s 3ms/step - loss: 0.5786 - accuracy: 0.8110 - val_loss: 2.9051 - val_accuracy: 0.7131\n",
            "Epoch 91/100\n",
            "138/138 [==============================] - 0s 4ms/step - loss: 0.6177 - accuracy: 0.8067 - val_loss: 2.9319 - val_accuracy: 0.7295\n",
            "Epoch 92/100\n",
            "138/138 [==============================] - 0s 4ms/step - loss: 0.6046 - accuracy: 0.7994 - val_loss: 2.9439 - val_accuracy: 0.7049\n",
            "Epoch 93/100\n",
            "138/138 [==============================] - 0s 4ms/step - loss: 0.5698 - accuracy: 0.8241 - val_loss: 2.9055 - val_accuracy: 0.7213\n",
            "Epoch 94/100\n",
            "138/138 [==============================] - 0s 3ms/step - loss: 0.4678 - accuracy: 0.8503 - val_loss: 2.9634 - val_accuracy: 0.7131\n",
            "Epoch 95/100\n",
            "138/138 [==============================] - 0s 4ms/step - loss: 0.5875 - accuracy: 0.8227 - val_loss: 2.9522 - val_accuracy: 0.7295\n",
            "Epoch 96/100\n",
            "138/138 [==============================] - 0s 4ms/step - loss: 0.5354 - accuracy: 0.8387 - val_loss: 2.9198 - val_accuracy: 0.7295\n",
            "Epoch 97/100\n",
            "138/138 [==============================] - 1s 4ms/step - loss: 0.5520 - accuracy: 0.8372 - val_loss: 2.9482 - val_accuracy: 0.7213\n",
            "Epoch 98/100\n",
            "138/138 [==============================] - 1s 4ms/step - loss: 0.4661 - accuracy: 0.8735 - val_loss: 2.9906 - val_accuracy: 0.7295\n",
            "Epoch 99/100\n",
            "138/138 [==============================] - 1s 4ms/step - loss: 0.6235 - accuracy: 0.8096 - val_loss: 2.8667 - val_accuracy: 0.7295\n",
            "Epoch 100/100\n",
            "138/138 [==============================] - 0s 4ms/step - loss: 0.4354 - accuracy: 0.8517 - val_loss: 3.0128 - val_accuracy: 0.7295\n"
          ]
        }
      ]
    },
    {
      "cell_type": "code",
      "source": [
        "import matplotlib.pyplot as plt "
      ],
      "metadata": {
        "id": "JanXimF_jQ_T"
      },
      "execution_count": 23,
      "outputs": []
    },
    {
      "cell_type": "code",
      "source": [
        "plt.plot(m.history['accuracy'])\n",
        "plt.plot(m.history['val_accuracy'])\n",
        "plt.title('model accuracy')\n",
        "plt.ylabel('accuracy')\n",
        "plt.xlabel('epoch')\n",
        "plt.legend(['train', 'test'], loc='upper left')\n",
        "plt.show()\n",
        "\n",
        "plt.plot(m.history['loss'])\n",
        "plt.plot(m.history['val_loss'])\n",
        "plt.title('model loss')\n",
        "plt.ylabel('loss')\n",
        "plt.xlabel('epoch')\n",
        "plt.legend(['train', 'test'], loc='upper left')"
      ],
      "metadata": {
        "colab": {
          "base_uri": "https://localhost:8080/",
          "height": 590
        },
        "id": "VVimMZBRi2TG",
        "outputId": "09c8484c-494b-4a58-886d-66f5955ea471"
      },
      "execution_count": 25,
      "outputs": [
        {
          "output_type": "display_data",
          "data": {
            "image/png": "[encoded data removed]",
            "text/plain": [
              "<Figure size 432x288 with 1 Axes>"
            ]
          },
          "metadata": {
            "needs_background": "light"
          }
        },
        {
          "output_type": "execute_result",
          "data": {
            "text/plain": [
              "<matplotlib.legend.Legend at 0x7fc9ec015710>"
            ]
          },
          "metadata": {},
          "execution_count": 25
        },
        {
          "output_type": "display_data",
          "data": {
            "image/png": "[encoded data removed]",
            "text/plain": [
              "<Figure size 432x288 with 1 Axes>"
            ]
          },
          "metadata": {
            "needs_background": "light"
          }
        }
      ]
    },
    {
      "cell_type": "code",
      "execution_count": 17,
      "metadata": {
        "id": "lLq81Q-FHDGP",
        "colab": {
          "base_uri": "https://localhost:8080/"
        },
        "outputId": "e1adf294-cd38-4110-e866-85722916dc37"
      },
      "outputs": [
        {
          "output_type": "stream",
          "name": "stdout",
          "text": [
            "model created\n"
          ]
        }
      ],
      "source": [
        "model.save('chatbot_model.h5')\n",
        "print(\"model created\")"
      ]
    }
  ],
  "metadata": {
    "accelerator": "GPU",
    "colab": {
      "collapsed_sections": [],
      "name": "Copy of intent2 BOW using MultiLayer ANN.ipynb",
      "provenance": []
    },
    "kernelspec": {
      "display_name": "Python 3",
      "name": "python3"
    },
    "language_info": {
      "name": "python"
    }
  },
  "nbformat": 4,
  "nbformat_minor": 0
}